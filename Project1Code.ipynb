{
 "cells": [
  {
   "cell_type": "markdown",
   "metadata": {},
   "source": [
    "# Project 1: SAT & ACT Analysis"
   ]
  },
  {
   "cell_type": "markdown",
   "metadata": {},
   "source": [
    "The first markdown cell in a notebook is a great place to provide an overview of your entire project. You will likely want to at least state your\n",
    "\n",
    "## Problem Statement"
   ]
  },
  {
   "cell_type": "markdown",
   "metadata": {},
   "source": [
    "as well as an"
   ]
  },
  {
   "cell_type": "markdown",
   "metadata": {},
   "source": [
    "## Executive Summary\n",
    "\n",
    "If you want to, it's great to use relative links to direct your audience to various sections of a notebook. **HERE'S A DEMONSTRATION WITH THE CURRENT SECTION HEADERS**:\n",
    "\n",
    "### Contents:\n",
    "- [2017 Data Import & Cleaning](#Data-Import-and-Cleaning)\n",
    "- [2018 Data Import and Cleaning](#2018-Data-Import-and-Cleaning)\n",
    "- [Exploratory Data Analysis](#Exploratory-Data-Analysis)\n",
    "- [Data Visualization](#Visualize-the-data)\n",
    "- [Descriptive and Inferential Statistics](#Descriptive-and-Inferential-Statistics)\n",
    "- [Outside Research](#Outside-Research)\n",
    "- [Conclusions and Recommendations](#Conclusions-and-Recommendations)"
   ]
  },
  {
   "cell_type": "markdown",
   "metadata": {},
   "source": [
    "**If you combine your problem statement, executive summary, data dictionary, and conclusions/recommendations, you have an amazing README.md file that quickly aligns your audience to the contents of your project.** Don't forget to cite your data sources!"
   ]
  },
  {
   "cell_type": "markdown",
   "metadata": {},
   "source": [
    "*All libraries used should be added here*"
   ]
  },
  {
   "cell_type": "code",
   "execution_count": 1,
   "metadata": {},
   "outputs": [],
   "source": [
    "import numpy as np\n",
    "import pandas as pd\n",
    "import scipy.stats as stats\n",
    "import matplotlib.pyplot as plt"
   ]
  },
  {
   "cell_type": "markdown",
   "metadata": {},
   "source": [
    "## 2017 Data Import and Cleaning"
   ]
  },
  {
   "cell_type": "markdown",
   "metadata": {},
   "source": [
    "#### 1. Read In SAT & ACT  Data\n",
    "\n",
    "Read in the `sat_2017.csv` and `act_2017.csv` files and assign them to appropriately named pandas dataframes."
   ]
  },
  {
   "cell_type": "code",
   "execution_count": 2,
   "metadata": {},
   "outputs": [],
   "source": [
    "sat_2017 = pd.read_csv('./data/sat_2017.csv')\n",
    "act_2017 = pd.read_csv('./data/act_2017.csv')"
   ]
  },
  {
   "cell_type": "markdown",
   "metadata": {},
   "source": [
    "#### 2. Display Data\n",
    "\n",
    "Print the first 10 rows of each dataframe to your jupyter notebook"
   ]
  },
  {
   "cell_type": "code",
   "execution_count": 3,
   "metadata": {},
   "outputs": [
    {
     "data": {
      "text/html": [
       "<div>\n",
       "<style scoped>\n",
       "    .dataframe tbody tr th:only-of-type {\n",
       "        vertical-align: middle;\n",
       "    }\n",
       "\n",
       "    .dataframe tbody tr th {\n",
       "        vertical-align: top;\n",
       "    }\n",
       "\n",
       "    .dataframe thead th {\n",
       "        text-align: right;\n",
       "    }\n",
       "</style>\n",
       "<table border=\"1\" class=\"dataframe\">\n",
       "  <thead>\n",
       "    <tr style=\"text-align: right;\">\n",
       "      <th></th>\n",
       "      <th>State</th>\n",
       "      <th>Participation</th>\n",
       "      <th>Evidence-Based Reading and Writing</th>\n",
       "      <th>Math</th>\n",
       "      <th>Total</th>\n",
       "    </tr>\n",
       "  </thead>\n",
       "  <tbody>\n",
       "    <tr>\n",
       "      <th>0</th>\n",
       "      <td>Alabama</td>\n",
       "      <td>5%</td>\n",
       "      <td>593</td>\n",
       "      <td>572</td>\n",
       "      <td>1165</td>\n",
       "    </tr>\n",
       "    <tr>\n",
       "      <th>1</th>\n",
       "      <td>Alaska</td>\n",
       "      <td>38%</td>\n",
       "      <td>547</td>\n",
       "      <td>533</td>\n",
       "      <td>1080</td>\n",
       "    </tr>\n",
       "    <tr>\n",
       "      <th>2</th>\n",
       "      <td>Arizona</td>\n",
       "      <td>30%</td>\n",
       "      <td>563</td>\n",
       "      <td>553</td>\n",
       "      <td>1116</td>\n",
       "    </tr>\n",
       "    <tr>\n",
       "      <th>3</th>\n",
       "      <td>Arkansas</td>\n",
       "      <td>3%</td>\n",
       "      <td>614</td>\n",
       "      <td>594</td>\n",
       "      <td>1208</td>\n",
       "    </tr>\n",
       "    <tr>\n",
       "      <th>4</th>\n",
       "      <td>California</td>\n",
       "      <td>53%</td>\n",
       "      <td>531</td>\n",
       "      <td>524</td>\n",
       "      <td>1055</td>\n",
       "    </tr>\n",
       "    <tr>\n",
       "      <th>5</th>\n",
       "      <td>Colorado</td>\n",
       "      <td>11%</td>\n",
       "      <td>606</td>\n",
       "      <td>595</td>\n",
       "      <td>1201</td>\n",
       "    </tr>\n",
       "    <tr>\n",
       "      <th>6</th>\n",
       "      <td>Connecticut</td>\n",
       "      <td>100%</td>\n",
       "      <td>530</td>\n",
       "      <td>512</td>\n",
       "      <td>1041</td>\n",
       "    </tr>\n",
       "    <tr>\n",
       "      <th>7</th>\n",
       "      <td>Delaware</td>\n",
       "      <td>100%</td>\n",
       "      <td>503</td>\n",
       "      <td>492</td>\n",
       "      <td>996</td>\n",
       "    </tr>\n",
       "    <tr>\n",
       "      <th>8</th>\n",
       "      <td>District of Columbia</td>\n",
       "      <td>100%</td>\n",
       "      <td>482</td>\n",
       "      <td>468</td>\n",
       "      <td>950</td>\n",
       "    </tr>\n",
       "    <tr>\n",
       "      <th>9</th>\n",
       "      <td>Florida</td>\n",
       "      <td>83%</td>\n",
       "      <td>520</td>\n",
       "      <td>497</td>\n",
       "      <td>1017</td>\n",
       "    </tr>\n",
       "  </tbody>\n",
       "</table>\n",
       "</div>"
      ],
      "text/plain": [
       "                  State Participation  Evidence-Based Reading and Writing  \\\n",
       "0               Alabama            5%                                 593   \n",
       "1                Alaska           38%                                 547   \n",
       "2               Arizona           30%                                 563   \n",
       "3              Arkansas            3%                                 614   \n",
       "4            California           53%                                 531   \n",
       "5              Colorado           11%                                 606   \n",
       "6           Connecticut          100%                                 530   \n",
       "7              Delaware          100%                                 503   \n",
       "8  District of Columbia          100%                                 482   \n",
       "9               Florida           83%                                 520   \n",
       "\n",
       "   Math  Total  \n",
       "0   572   1165  \n",
       "1   533   1080  \n",
       "2   553   1116  \n",
       "3   594   1208  \n",
       "4   524   1055  \n",
       "5   595   1201  \n",
       "6   512   1041  \n",
       "7   492    996  \n",
       "8   468    950  \n",
       "9   497   1017  "
      ]
     },
     "execution_count": 3,
     "metadata": {},
     "output_type": "execute_result"
    }
   ],
   "source": [
    "sat_2017.head(10)"
   ]
  },
  {
   "cell_type": "code",
   "execution_count": 4,
   "metadata": {},
   "outputs": [
    {
     "data": {
      "text/html": [
       "<div>\n",
       "<style scoped>\n",
       "    .dataframe tbody tr th:only-of-type {\n",
       "        vertical-align: middle;\n",
       "    }\n",
       "\n",
       "    .dataframe tbody tr th {\n",
       "        vertical-align: top;\n",
       "    }\n",
       "\n",
       "    .dataframe thead th {\n",
       "        text-align: right;\n",
       "    }\n",
       "</style>\n",
       "<table border=\"1\" class=\"dataframe\">\n",
       "  <thead>\n",
       "    <tr style=\"text-align: right;\">\n",
       "      <th></th>\n",
       "      <th>State</th>\n",
       "      <th>Participation</th>\n",
       "      <th>English</th>\n",
       "      <th>Math</th>\n",
       "      <th>Reading</th>\n",
       "      <th>Science</th>\n",
       "      <th>Composite</th>\n",
       "    </tr>\n",
       "  </thead>\n",
       "  <tbody>\n",
       "    <tr>\n",
       "      <th>0</th>\n",
       "      <td>National</td>\n",
       "      <td>60%</td>\n",
       "      <td>20.3</td>\n",
       "      <td>20.7</td>\n",
       "      <td>21.4</td>\n",
       "      <td>21.0</td>\n",
       "      <td>21.0</td>\n",
       "    </tr>\n",
       "    <tr>\n",
       "      <th>1</th>\n",
       "      <td>Alabama</td>\n",
       "      <td>100%</td>\n",
       "      <td>18.9</td>\n",
       "      <td>18.4</td>\n",
       "      <td>19.7</td>\n",
       "      <td>19.4</td>\n",
       "      <td>19.2</td>\n",
       "    </tr>\n",
       "    <tr>\n",
       "      <th>2</th>\n",
       "      <td>Alaska</td>\n",
       "      <td>65%</td>\n",
       "      <td>18.7</td>\n",
       "      <td>19.8</td>\n",
       "      <td>20.4</td>\n",
       "      <td>19.9</td>\n",
       "      <td>19.8</td>\n",
       "    </tr>\n",
       "    <tr>\n",
       "      <th>3</th>\n",
       "      <td>Arizona</td>\n",
       "      <td>62%</td>\n",
       "      <td>18.6</td>\n",
       "      <td>19.8</td>\n",
       "      <td>20.1</td>\n",
       "      <td>19.8</td>\n",
       "      <td>19.7</td>\n",
       "    </tr>\n",
       "    <tr>\n",
       "      <th>4</th>\n",
       "      <td>Arkansas</td>\n",
       "      <td>100%</td>\n",
       "      <td>18.9</td>\n",
       "      <td>19.0</td>\n",
       "      <td>19.7</td>\n",
       "      <td>19.5</td>\n",
       "      <td>19.4</td>\n",
       "    </tr>\n",
       "    <tr>\n",
       "      <th>5</th>\n",
       "      <td>California</td>\n",
       "      <td>31%</td>\n",
       "      <td>22.5</td>\n",
       "      <td>22.7</td>\n",
       "      <td>23.1</td>\n",
       "      <td>22.2</td>\n",
       "      <td>22.8</td>\n",
       "    </tr>\n",
       "    <tr>\n",
       "      <th>6</th>\n",
       "      <td>Colorado</td>\n",
       "      <td>100%</td>\n",
       "      <td>20.1</td>\n",
       "      <td>20.3</td>\n",
       "      <td>21.2</td>\n",
       "      <td>20.9</td>\n",
       "      <td>20.8</td>\n",
       "    </tr>\n",
       "    <tr>\n",
       "      <th>7</th>\n",
       "      <td>Connecticut</td>\n",
       "      <td>31%</td>\n",
       "      <td>25.5</td>\n",
       "      <td>24.6</td>\n",
       "      <td>25.6</td>\n",
       "      <td>24.6</td>\n",
       "      <td>25.2</td>\n",
       "    </tr>\n",
       "    <tr>\n",
       "      <th>8</th>\n",
       "      <td>Delaware</td>\n",
       "      <td>18%</td>\n",
       "      <td>24.1</td>\n",
       "      <td>23.4</td>\n",
       "      <td>24.8</td>\n",
       "      <td>23.6</td>\n",
       "      <td>24.1</td>\n",
       "    </tr>\n",
       "    <tr>\n",
       "      <th>9</th>\n",
       "      <td>District of Columbia</td>\n",
       "      <td>32%</td>\n",
       "      <td>24.4</td>\n",
       "      <td>23.5</td>\n",
       "      <td>24.9</td>\n",
       "      <td>23.5</td>\n",
       "      <td>24.2</td>\n",
       "    </tr>\n",
       "  </tbody>\n",
       "</table>\n",
       "</div>"
      ],
      "text/plain": [
       "                  State Participation  English  Math  Reading  Science  \\\n",
       "0              National           60%     20.3  20.7     21.4     21.0   \n",
       "1               Alabama          100%     18.9  18.4     19.7     19.4   \n",
       "2                Alaska           65%     18.7  19.8     20.4     19.9   \n",
       "3               Arizona           62%     18.6  19.8     20.1     19.8   \n",
       "4              Arkansas          100%     18.9  19.0     19.7     19.5   \n",
       "5            California           31%     22.5  22.7     23.1     22.2   \n",
       "6              Colorado          100%     20.1  20.3     21.2     20.9   \n",
       "7           Connecticut           31%     25.5  24.6     25.6     24.6   \n",
       "8              Delaware           18%     24.1  23.4     24.8     23.6   \n",
       "9  District of Columbia           32%     24.4  23.5     24.9     23.5   \n",
       "\n",
       "  Composite  \n",
       "0      21.0  \n",
       "1      19.2  \n",
       "2      19.8  \n",
       "3      19.7  \n",
       "4      19.4  \n",
       "5      22.8  \n",
       "6      20.8  \n",
       "7      25.2  \n",
       "8      24.1  \n",
       "9      24.2  "
      ]
     },
     "execution_count": 4,
     "metadata": {},
     "output_type": "execute_result"
    }
   ],
   "source": [
    "act_2017.head(10)"
   ]
  },
  {
   "cell_type": "markdown",
   "metadata": {},
   "source": [
    "#### 3. Verbally Describe Data\n",
    "\n",
    "Take your time looking through the data and thoroughly describe the data in the markdown cell below. "
   ]
  },
  {
   "cell_type": "markdown",
   "metadata": {},
   "source": [
    "Answer: Without performing any functions/operations on the data, it shows the average national % of participation in the SAT/ACTs as well as average % of participation in SAT/ACTs for each state and DC.\n",
    "Average total scores and scores in each category are also shown."
   ]
  },
  {
   "cell_type": "markdown",
   "metadata": {},
   "source": [
    "#### 4a. Does the data look complete? "
   ]
  },
  {
   "cell_type": "markdown",
   "metadata": {},
   "source": [
    "Answer: Yes. It shows the National average data as well the data for all 50 states and DC."
   ]
  },
  {
   "cell_type": "markdown",
   "metadata": {},
   "source": [
    "#### 4b. Are there any obvious issues with the observations?\n",
    "\n",
    "**What is the minimum *possible* value for each test/subtest? What is the maximum *possible* value?**\n",
    "\n",
    "Consider comparing any questionable values to the sources of your data:\n",
    "- [SAT](https://blog.collegevine.com/here-are-the-average-sat-scores-by-state/)\n",
    "- [ACT](https://blog.prepscholar.com/act-scores-by-state-averages-highs-and-lows)"
   ]
  },
  {
   "cell_type": "code",
   "execution_count": 5,
   "metadata": {},
   "outputs": [
    {
     "data": {
      "text/plain": [
       "'17.8'"
      ]
     },
     "execution_count": 5,
     "metadata": {},
     "output_type": "execute_result"
    }
   ],
   "source": [
    "act_2017['Composite'].min()"
   ]
  },
  {
   "cell_type": "code",
   "execution_count": 6,
   "metadata": {},
   "outputs": [
    {
     "data": {
      "text/plain": [
       "16.3"
      ]
     },
     "execution_count": 6,
     "metadata": {},
     "output_type": "execute_result"
    }
   ],
   "source": [
    "act_2017['English'].min()"
   ]
  },
  {
   "cell_type": "code",
   "execution_count": 7,
   "metadata": {},
   "outputs": [
    {
     "data": {
      "text/plain": [
       "18.0"
      ]
     },
     "execution_count": 7,
     "metadata": {},
     "output_type": "execute_result"
    }
   ],
   "source": [
    "act_2017['Math'].min()"
   ]
  },
  {
   "cell_type": "code",
   "execution_count": 8,
   "metadata": {},
   "outputs": [
    {
     "data": {
      "text/plain": [
       "18.1"
      ]
     },
     "execution_count": 8,
     "metadata": {},
     "output_type": "execute_result"
    }
   ],
   "source": [
    "act_2017['Reading'].min()"
   ]
  },
  {
   "cell_type": "code",
   "execution_count": 9,
   "metadata": {},
   "outputs": [
    {
     "data": {
      "text/plain": [
       "2.3"
      ]
     },
     "execution_count": 9,
     "metadata": {},
     "output_type": "execute_result"
    }
   ],
   "source": [
    "act_2017['Science'].min()"
   ]
  },
  {
   "cell_type": "code",
   "execution_count": 10,
   "metadata": {},
   "outputs": [
    {
     "data": {
      "text/plain": [
       "950"
      ]
     },
     "execution_count": 10,
     "metadata": {},
     "output_type": "execute_result"
    }
   ],
   "source": [
    "sat_2017['Total'].min()"
   ]
  },
  {
   "cell_type": "code",
   "execution_count": 11,
   "metadata": {},
   "outputs": [
    {
     "data": {
      "text/plain": [
       "482"
      ]
     },
     "execution_count": 11,
     "metadata": {},
     "output_type": "execute_result"
    }
   ],
   "source": [
    "sat_2017['Evidence-Based Reading and Writing'].min()"
   ]
  },
  {
   "cell_type": "code",
   "execution_count": 12,
   "metadata": {},
   "outputs": [
    {
     "data": {
      "text/plain": [
       "52"
      ]
     },
     "execution_count": 12,
     "metadata": {},
     "output_type": "execute_result"
    }
   ],
   "source": [
    "sat_2017['Math'].min()"
   ]
  },
  {
   "cell_type": "markdown",
   "metadata": {},
   "source": [
    "Answer:\n",
    "ACT\n",
    "Min composite: 17.8\n",
    "Min English: 16.3\n",
    "Min Math: 18.0\n",
    "Min Reading: 18.1\n",
    "Min Science: 2.3\n",
    "\n",
    "SAT\n",
    "Min Total: 950\n",
    "Min Evidence-Based Reading and Writing: 482\n",
    "Min Math: 52"
   ]
  },
  {
   "cell_type": "markdown",
   "metadata": {},
   "source": [
    "# \n",
    "#### 4c. Fix any errors you identified\n",
    "\n",
    "**The data is available** so there's no need to guess or calculate anything. If you didn't find any errors, continue to the next step."
   ]
  },
  {
   "cell_type": "markdown",
   "metadata": {},
   "source": [
    "No errors found"
   ]
  },
  {
   "cell_type": "markdown",
   "metadata": {},
   "source": [
    "#### 5. What are your data types? \n",
    "Display the data types of each feature. "
   ]
  },
  {
   "cell_type": "code",
   "execution_count": 13,
   "metadata": {},
   "outputs": [
    {
     "data": {
      "text/plain": [
       "State                                 object\n",
       "Participation                         object\n",
       "Evidence-Based Reading and Writing     int64\n",
       "Math                                   int64\n",
       "Total                                  int64\n",
       "dtype: object"
      ]
     },
     "execution_count": 13,
     "metadata": {},
     "output_type": "execute_result"
    }
   ],
   "source": [
    "sat_2017.dtypes"
   ]
  },
  {
   "cell_type": "code",
   "execution_count": 14,
   "metadata": {},
   "outputs": [
    {
     "data": {
      "text/plain": [
       "State             object\n",
       "Participation     object\n",
       "English          float64\n",
       "Math             float64\n",
       "Reading          float64\n",
       "Science          float64\n",
       "Composite         object\n",
       "dtype: object"
      ]
     },
     "execution_count": 14,
     "metadata": {},
     "output_type": "execute_result"
    }
   ],
   "source": [
    "act_2017.dtypes"
   ]
  },
  {
   "cell_type": "markdown",
   "metadata": {},
   "source": [
    "What did you learn?\n",
    "- Do any of them seem odd?  \n",
    "- Which ones are not as they should be?  "
   ]
  },
  {
   "cell_type": "markdown",
   "metadata": {},
   "source": [
    "At first glance, 'Participation' column in the SAT df would be assumed to be int or float; but it is string because of the '%' symbol.\n",
    "Same goes for the ACT 'Participation' column. However, ACT 'Composite' would be assumed to be comprised entirely of numerical values, but shows as type string."
   ]
  },
  {
   "cell_type": "markdown",
   "metadata": {},
   "source": [
    "#### 6. Fix Incorrect Data Types\n",
    "Based on what you discovered above, use appropriate methods to re-type incorrectly typed data.\n",
    "- Define a function that will allow you to convert participation rates to an appropriate numeric type. Use `map` or `apply` to change these columns in each dataframe."
   ]
  },
  {
   "cell_type": "code",
   "execution_count": 15,
   "metadata": {},
   "outputs": [
    {
     "name": "stderr",
     "output_type": "stream",
     "text": [
      "C:\\Users\\justanotheregg\\Anaconda3\\envs\\dsi\\lib\\site-packages\\ipykernel_launcher.py:1: SettingWithCopyWarning: \n",
      "A value is trying to be set on a copy of a slice from a DataFrame\n",
      "\n",
      "See the caveats in the documentation: http://pandas.pydata.org/pandas-docs/stable/indexing.html#indexing-view-versus-copy\n",
      "  \"\"\"Entry point for launching an IPython kernel.\n"
     ]
    }
   ],
   "source": [
    "act_2017['Composite'][51] = act_2017['Composite'][51].replace('x', '')"
   ]
  },
  {
   "cell_type": "code",
   "execution_count": 16,
   "metadata": {},
   "outputs": [
    {
     "data": {
      "text/plain": [
       "'20.2'"
      ]
     },
     "execution_count": 16,
     "metadata": {},
     "output_type": "execute_result"
    }
   ],
   "source": [
    "act_2017['Composite'][51]"
   ]
  },
  {
   "cell_type": "code",
   "execution_count": 17,
   "metadata": {},
   "outputs": [
    {
     "data": {
      "text/plain": [
       "State             object\n",
       "Participation     object\n",
       "English          float64\n",
       "Math             float64\n",
       "Reading          float64\n",
       "Science          float64\n",
       "Composite         object\n",
       "dtype: object"
      ]
     },
     "execution_count": 17,
     "metadata": {},
     "output_type": "execute_result"
    }
   ],
   "source": [
    "act_2017.dtypes"
   ]
  },
  {
   "cell_type": "code",
   "execution_count": 18,
   "metadata": {},
   "outputs": [],
   "source": [
    "act_2017['Composite'] = pd.to_numeric(act_2017['Composite'])"
   ]
  },
  {
   "cell_type": "code",
   "execution_count": 19,
   "metadata": {},
   "outputs": [
    {
     "data": {
      "text/plain": [
       "State             object\n",
       "Participation     object\n",
       "English          float64\n",
       "Math             float64\n",
       "Reading          float64\n",
       "Science          float64\n",
       "Composite        float64\n",
       "dtype: object"
      ]
     },
     "execution_count": 19,
     "metadata": {},
     "output_type": "execute_result"
    }
   ],
   "source": [
    "act_2017.dtypes"
   ]
  },
  {
   "cell_type": "markdown",
   "metadata": {},
   "source": [
    "- Fix any individual values preventing other columns from being the appropriate type."
   ]
  },
  {
   "cell_type": "code",
   "execution_count": 20,
   "metadata": {},
   "outputs": [],
   "source": [
    "act_2017['Participation'] = act_2017['Participation'].str.replace('%', '')"
   ]
  },
  {
   "cell_type": "markdown",
   "metadata": {},
   "source": [
    "- Finish your data modifications by making sure the columns are now typed appropriately."
   ]
  },
  {
   "cell_type": "code",
   "execution_count": 21,
   "metadata": {},
   "outputs": [],
   "source": [
    "act_2017['Participation'] = pd.to_numeric(act_2017['Participation'])"
   ]
  },
  {
   "cell_type": "code",
   "execution_count": 22,
   "metadata": {},
   "outputs": [
    {
     "data": {
      "text/plain": [
       "State             object\n",
       "Participation      int64\n",
       "English          float64\n",
       "Math             float64\n",
       "Reading          float64\n",
       "Science          float64\n",
       "Composite        float64\n",
       "dtype: object"
      ]
     },
     "execution_count": 22,
     "metadata": {},
     "output_type": "execute_result"
    }
   ],
   "source": [
    "act_2017.dtypes"
   ]
  },
  {
   "cell_type": "markdown",
   "metadata": {},
   "source": [
    "- Display the data types again to confirm they are correct."
   ]
  },
  {
   "cell_type": "code",
   "execution_count": 23,
   "metadata": {},
   "outputs": [],
   "source": [
    "sat_2017['Participation'] = pd.to_numeric(sat_2017['Participation'].str.replace('%', ''))"
   ]
  },
  {
   "cell_type": "code",
   "execution_count": 24,
   "metadata": {},
   "outputs": [
    {
     "data": {
      "text/plain": [
       "State                                 object\n",
       "Participation                          int64\n",
       "Evidence-Based Reading and Writing     int64\n",
       "Math                                   int64\n",
       "Total                                  int64\n",
       "dtype: object"
      ]
     },
     "execution_count": 24,
     "metadata": {},
     "output_type": "execute_result"
    }
   ],
   "source": [
    "sat_2017.dtypes"
   ]
  },
  {
   "cell_type": "markdown",
   "metadata": {},
   "source": [
    "#### 7. Rename Columns\n",
    "Change the names of the columns to more expressive names so that you can tell the difference the SAT columns and the ACT columns. Your solution should map all column names being changed at once (no repeated singular name-changes). **We will be combining these data with some of the data from 2018, and so you should name columns in an appropriate way**.\n",
    "\n",
    "**Guidelines**:\n",
    "- Column names should be all lowercase (you will thank yourself when you start pushing data to SQL later in the course)\n",
    "- Column names should not contain spaces (underscores will suffice--this allows for using the `df.column_name` method to access columns in addition to `df['column_name']`.\n",
    "- Column names should be unique and informative (the only feature that we actually share between dataframes is the state)."
   ]
  },
  {
   "cell_type": "code",
   "execution_count": 25,
   "metadata": {},
   "outputs": [],
   "source": [
    "sat2017_column_dict = {'State': 'state',\n",
    "                      'Participation': 'sat2017_participation',\n",
    "                      'Evidence-Based Reading and Writing': 'sat2017_readingwriting',\n",
    "                      'Math': 'sat2017_math',\n",
    "                      'Total': 'sat2017_total'}"
   ]
  },
  {
   "cell_type": "code",
   "execution_count": 26,
   "metadata": {},
   "outputs": [],
   "source": [
    "sat_2017.rename(columns=sat2017_column_dict, inplace=True) "
   ]
  },
  {
   "cell_type": "code",
   "execution_count": 27,
   "metadata": {},
   "outputs": [],
   "source": [
    "act_2017_column_dict = {'State': 'state',\n",
    "                       'Participation': 'act2017_participation',\n",
    "                       'English': 'act2017_english',\n",
    "                        'Math': 'act2017_math',\n",
    "                       'Reading': 'act2017_reading',\n",
    "                       'Science': 'act2017_science',\n",
    "                       'Composite': 'act2017_composite'}"
   ]
  },
  {
   "cell_type": "code",
   "execution_count": 28,
   "metadata": {},
   "outputs": [],
   "source": [
    "act_2017.rename(columns=act_2017_column_dict, inplace=True)"
   ]
  },
  {
   "cell_type": "markdown",
   "metadata": {},
   "source": [
    "#### 8. Create a data dictionary\n",
    "\n",
    "Now that we've fixed our data, and given it appropriate names, let's create a [data dictionary](http://library.ucmerced.edu/node/10249). \n",
    "\n",
    "A data dictionary provides a quick overview of features/variables/columns, alongside data types and descriptions. The more descriptive you can be, the more useful this document is.\n",
    "\n",
    "Example of a Fictional Data Dictionary Entry: \n",
    "\n",
    "|Feature|Type|Dataset|Description|\n",
    "|---|---|---|---|\n",
    "|**county_pop**|*integer*|2010 census|The population of the county (units in thousands, where 2.5 represents 2500 people).| \n",
    "|**per_poverty**|*float*|2010 census|The percent of the county over the age of 18 living below the 200% of official US poverty rate (units percent to two decimal places 98.10 means 98.1%)|\n",
    "\n",
    "[Here's a quick link to a short guide for formatting markdown in Jupyter notebooks](https://jupyter-notebook.readthedocs.io/en/stable/examples/Notebook/Working%20With%20Markdown%20Cells.html).\n",
    "\n",
    "Provided is the skeleton for formatting a markdown table, with columns headers that will help you create a data dictionary to quickly summarize your data, as well as some examples. **This would be a great thing to copy and paste into your custom README for this project.**"
   ]
  },
  {
   "cell_type": "markdown",
   "metadata": {},
   "source": [
    "|Feature|Type|Dataset|Description|\n",
    "|---|---|---|---|\n",
    "|column name|int/float/object|ACT/SAT|This is an example| \n"
   ]
  },
  {
   "cell_type": "markdown",
   "metadata": {},
   "source": [
    "| Dataset | Column Name | Type | Description |\n",
    "|---------|-------------|------|-------------|\n",
    "| SAT 2017| state| object | Name of State in which SAT was taken |\n",
    "| SAT 2017| sat2017_participation | int| Percentage of pop. participating in SAT|\n",
    "| SAT 2017| sat2017_readingwriting | int| Average state score on Reading/Writing portion of SAT|\n",
    "| SAT 2017| sat2017_math | int| Average state score on Math portion of SAT|\n",
    "| SAT 2017| sat2017_total | int|Average state total score on SAT|\n",
    "\n"
   ]
  },
  {
   "cell_type": "markdown",
   "metadata": {},
   "source": [
    "| Dataset | Column Name | Type | Description |\n",
    "|---------|-------------|------|-------------|\n",
    "| ACT 2017| state| object | Name of State in which ACT was taken |\n",
    "| ACT 2017| act2017_participation | int| Percentage of pop. participating in ACT|\n",
    "| ACT 2017| act2017_english | int| Average state score on English portion of ACT|\n",
    "| ACT 2017| act2017_math | int| Average state score on Math portion of ACT|\n",
    "| ACT 2017| act2017_reading | int|Average state score on Reading portion of ACT|\n",
    "| ACT 2017| act2017_science | int| Average state score on Science portion of ACT| \n",
    "| ACT 2017| act2017_composite | int| AVerage state composite score on ACT|"
   ]
  },
  {
   "cell_type": "markdown",
   "metadata": {},
   "source": [
    "#### 9. Drop unnecessary rows\n",
    "\n",
    "One of our dataframes contains an extra row. Identify and remove this from the dataframe."
   ]
  },
  {
   "cell_type": "code",
   "execution_count": 29,
   "metadata": {},
   "outputs": [],
   "source": [
    "act_2017.drop([0], inplace=True)"
   ]
  },
  {
   "cell_type": "code",
   "execution_count": 30,
   "metadata": {},
   "outputs": [
    {
     "data": {
      "text/html": [
       "<div>\n",
       "<style scoped>\n",
       "    .dataframe tbody tr th:only-of-type {\n",
       "        vertical-align: middle;\n",
       "    }\n",
       "\n",
       "    .dataframe tbody tr th {\n",
       "        vertical-align: top;\n",
       "    }\n",
       "\n",
       "    .dataframe thead th {\n",
       "        text-align: right;\n",
       "    }\n",
       "</style>\n",
       "<table border=\"1\" class=\"dataframe\">\n",
       "  <thead>\n",
       "    <tr style=\"text-align: right;\">\n",
       "      <th></th>\n",
       "      <th>state</th>\n",
       "      <th>act2017_participation</th>\n",
       "      <th>act2017_english</th>\n",
       "      <th>act2017_math</th>\n",
       "      <th>act2017_reading</th>\n",
       "      <th>act2017_science</th>\n",
       "      <th>act2017_composite</th>\n",
       "    </tr>\n",
       "  </thead>\n",
       "  <tbody>\n",
       "    <tr>\n",
       "      <th>1</th>\n",
       "      <td>Alabama</td>\n",
       "      <td>100</td>\n",
       "      <td>18.9</td>\n",
       "      <td>18.4</td>\n",
       "      <td>19.7</td>\n",
       "      <td>19.4</td>\n",
       "      <td>19.2</td>\n",
       "    </tr>\n",
       "    <tr>\n",
       "      <th>2</th>\n",
       "      <td>Alaska</td>\n",
       "      <td>65</td>\n",
       "      <td>18.7</td>\n",
       "      <td>19.8</td>\n",
       "      <td>20.4</td>\n",
       "      <td>19.9</td>\n",
       "      <td>19.8</td>\n",
       "    </tr>\n",
       "    <tr>\n",
       "      <th>3</th>\n",
       "      <td>Arizona</td>\n",
       "      <td>62</td>\n",
       "      <td>18.6</td>\n",
       "      <td>19.8</td>\n",
       "      <td>20.1</td>\n",
       "      <td>19.8</td>\n",
       "      <td>19.7</td>\n",
       "    </tr>\n",
       "    <tr>\n",
       "      <th>4</th>\n",
       "      <td>Arkansas</td>\n",
       "      <td>100</td>\n",
       "      <td>18.9</td>\n",
       "      <td>19.0</td>\n",
       "      <td>19.7</td>\n",
       "      <td>19.5</td>\n",
       "      <td>19.4</td>\n",
       "    </tr>\n",
       "    <tr>\n",
       "      <th>5</th>\n",
       "      <td>California</td>\n",
       "      <td>31</td>\n",
       "      <td>22.5</td>\n",
       "      <td>22.7</td>\n",
       "      <td>23.1</td>\n",
       "      <td>22.2</td>\n",
       "      <td>22.8</td>\n",
       "    </tr>\n",
       "  </tbody>\n",
       "</table>\n",
       "</div>"
      ],
      "text/plain": [
       "        state  act2017_participation  act2017_english  act2017_math  \\\n",
       "1     Alabama                    100             18.9          18.4   \n",
       "2      Alaska                     65             18.7          19.8   \n",
       "3     Arizona                     62             18.6          19.8   \n",
       "4    Arkansas                    100             18.9          19.0   \n",
       "5  California                     31             22.5          22.7   \n",
       "\n",
       "   act2017_reading  act2017_science  act2017_composite  \n",
       "1             19.7             19.4               19.2  \n",
       "2             20.4             19.9               19.8  \n",
       "3             20.1             19.8               19.7  \n",
       "4             19.7             19.5               19.4  \n",
       "5             23.1             22.2               22.8  "
      ]
     },
     "execution_count": 30,
     "metadata": {},
     "output_type": "execute_result"
    }
   ],
   "source": [
    "act_2017.head()"
   ]
  },
  {
   "cell_type": "markdown",
   "metadata": {},
   "source": [
    "#### 10. Merge Dataframes\n",
    "\n",
    "Join the 2017 ACT and SAT dataframes using the state in each dataframe as the key. Assign this to a new variable."
   ]
  },
  {
   "cell_type": "code",
   "execution_count": 31,
   "metadata": {},
   "outputs": [],
   "source": [
    "combined_2017 = pd.merge(left = sat_2017,\n",
    "                           right = act_2017,\n",
    "                           on = 'state')"
   ]
  },
  {
   "cell_type": "code",
   "execution_count": 32,
   "metadata": {},
   "outputs": [
    {
     "data": {
      "text/html": [
       "<div>\n",
       "<style scoped>\n",
       "    .dataframe tbody tr th:only-of-type {\n",
       "        vertical-align: middle;\n",
       "    }\n",
       "\n",
       "    .dataframe tbody tr th {\n",
       "        vertical-align: top;\n",
       "    }\n",
       "\n",
       "    .dataframe thead th {\n",
       "        text-align: right;\n",
       "    }\n",
       "</style>\n",
       "<table border=\"1\" class=\"dataframe\">\n",
       "  <thead>\n",
       "    <tr style=\"text-align: right;\">\n",
       "      <th></th>\n",
       "      <th>state</th>\n",
       "      <th>sat2017_participation</th>\n",
       "      <th>sat2017_readingwriting</th>\n",
       "      <th>sat2017_math</th>\n",
       "      <th>sat2017_total</th>\n",
       "      <th>act2017_participation</th>\n",
       "      <th>act2017_english</th>\n",
       "      <th>act2017_math</th>\n",
       "      <th>act2017_reading</th>\n",
       "      <th>act2017_science</th>\n",
       "      <th>act2017_composite</th>\n",
       "    </tr>\n",
       "  </thead>\n",
       "  <tbody>\n",
       "    <tr>\n",
       "      <th>0</th>\n",
       "      <td>Alabama</td>\n",
       "      <td>5</td>\n",
       "      <td>593</td>\n",
       "      <td>572</td>\n",
       "      <td>1165</td>\n",
       "      <td>100</td>\n",
       "      <td>18.9</td>\n",
       "      <td>18.4</td>\n",
       "      <td>19.7</td>\n",
       "      <td>19.4</td>\n",
       "      <td>19.2</td>\n",
       "    </tr>\n",
       "    <tr>\n",
       "      <th>1</th>\n",
       "      <td>Alaska</td>\n",
       "      <td>38</td>\n",
       "      <td>547</td>\n",
       "      <td>533</td>\n",
       "      <td>1080</td>\n",
       "      <td>65</td>\n",
       "      <td>18.7</td>\n",
       "      <td>19.8</td>\n",
       "      <td>20.4</td>\n",
       "      <td>19.9</td>\n",
       "      <td>19.8</td>\n",
       "    </tr>\n",
       "    <tr>\n",
       "      <th>2</th>\n",
       "      <td>Arizona</td>\n",
       "      <td>30</td>\n",
       "      <td>563</td>\n",
       "      <td>553</td>\n",
       "      <td>1116</td>\n",
       "      <td>62</td>\n",
       "      <td>18.6</td>\n",
       "      <td>19.8</td>\n",
       "      <td>20.1</td>\n",
       "      <td>19.8</td>\n",
       "      <td>19.7</td>\n",
       "    </tr>\n",
       "    <tr>\n",
       "      <th>3</th>\n",
       "      <td>Arkansas</td>\n",
       "      <td>3</td>\n",
       "      <td>614</td>\n",
       "      <td>594</td>\n",
       "      <td>1208</td>\n",
       "      <td>100</td>\n",
       "      <td>18.9</td>\n",
       "      <td>19.0</td>\n",
       "      <td>19.7</td>\n",
       "      <td>19.5</td>\n",
       "      <td>19.4</td>\n",
       "    </tr>\n",
       "    <tr>\n",
       "      <th>4</th>\n",
       "      <td>California</td>\n",
       "      <td>53</td>\n",
       "      <td>531</td>\n",
       "      <td>524</td>\n",
       "      <td>1055</td>\n",
       "      <td>31</td>\n",
       "      <td>22.5</td>\n",
       "      <td>22.7</td>\n",
       "      <td>23.1</td>\n",
       "      <td>22.2</td>\n",
       "      <td>22.8</td>\n",
       "    </tr>\n",
       "  </tbody>\n",
       "</table>\n",
       "</div>"
      ],
      "text/plain": [
       "        state  sat2017_participation  sat2017_readingwriting  sat2017_math  \\\n",
       "0     Alabama                      5                     593           572   \n",
       "1      Alaska                     38                     547           533   \n",
       "2     Arizona                     30                     563           553   \n",
       "3    Arkansas                      3                     614           594   \n",
       "4  California                     53                     531           524   \n",
       "\n",
       "   sat2017_total  act2017_participation  act2017_english  act2017_math  \\\n",
       "0           1165                    100             18.9          18.4   \n",
       "1           1080                     65             18.7          19.8   \n",
       "2           1116                     62             18.6          19.8   \n",
       "3           1208                    100             18.9          19.0   \n",
       "4           1055                     31             22.5          22.7   \n",
       "\n",
       "   act2017_reading  act2017_science  act2017_composite  \n",
       "0             19.7             19.4               19.2  \n",
       "1             20.4             19.9               19.8  \n",
       "2             20.1             19.8               19.7  \n",
       "3             19.7             19.5               19.4  \n",
       "4             23.1             22.2               22.8  "
      ]
     },
     "execution_count": 32,
     "metadata": {},
     "output_type": "execute_result"
    }
   ],
   "source": [
    "combined_2017.head()"
   ]
  },
  {
   "cell_type": "markdown",
   "metadata": {},
   "source": [
    "#### 11. Save your cleaned, merged dataframe\n",
    "\n",
    "Use a relative path to save out your data as `combined_2017.csv`."
   ]
  },
  {
   "cell_type": "code",
   "execution_count": 33,
   "metadata": {},
   "outputs": [],
   "source": [
    "combined_2017.to_csv('combined_2017.csv')"
   ]
  },
  {
   "cell_type": "markdown",
   "metadata": {},
   "source": [
    "## 2018 Data Import and Cleaning"
   ]
  },
  {
   "cell_type": "markdown",
   "metadata": {},
   "source": [
    "Links to the 2018 ACT and SAT data are provided in the README. These data live in PDFs, and so you'll get to enjoy practicing some *manual* data collection. Save these data as a CSV in your `data` directory, and import, explore, and clean these data in the same way you did above. **Make sure you comment on your steps so it is clear *why* you are doing each process**."
   ]
  },
  {
   "cell_type": "code",
   "execution_count": 34,
   "metadata": {},
   "outputs": [],
   "source": [
    "#importing SAT & ACT dataframes\n",
    "sat_2018 = pd.read_csv('./data/sat_2018.csv')\n",
    "act_2018 = pd.read_csv('./data/act_2018.csv')"
   ]
  },
  {
   "cell_type": "code",
   "execution_count": 35,
   "metadata": {},
   "outputs": [
    {
     "data": {
      "text/html": [
       "<div>\n",
       "<style scoped>\n",
       "    .dataframe tbody tr th:only-of-type {\n",
       "        vertical-align: middle;\n",
       "    }\n",
       "\n",
       "    .dataframe tbody tr th {\n",
       "        vertical-align: top;\n",
       "    }\n",
       "\n",
       "    .dataframe thead th {\n",
       "        text-align: right;\n",
       "    }\n",
       "</style>\n",
       "<table border=\"1\" class=\"dataframe\">\n",
       "  <thead>\n",
       "    <tr style=\"text-align: right;\">\n",
       "      <th></th>\n",
       "      <th>State</th>\n",
       "      <th>Participation</th>\n",
       "      <th>Evidence-Based Reading and Writing</th>\n",
       "      <th>Math</th>\n",
       "      <th>Total</th>\n",
       "      <th>Unnamed: 5</th>\n",
       "      <th>Unnamed: 6</th>\n",
       "      <th>Unnamed: 7</th>\n",
       "    </tr>\n",
       "  </thead>\n",
       "  <tbody>\n",
       "    <tr>\n",
       "      <th>0</th>\n",
       "      <td>Alabama</td>\n",
       "      <td>6%</td>\n",
       "      <td>595.0</td>\n",
       "      <td>571.0</td>\n",
       "      <td>1166.0</td>\n",
       "      <td>NaN</td>\n",
       "      <td>NaN</td>\n",
       "      <td>NaN</td>\n",
       "    </tr>\n",
       "    <tr>\n",
       "      <th>1</th>\n",
       "      <td>Alaska</td>\n",
       "      <td>43%</td>\n",
       "      <td>562.0</td>\n",
       "      <td>544.0</td>\n",
       "      <td>1106.0</td>\n",
       "      <td>NaN</td>\n",
       "      <td>NaN</td>\n",
       "      <td>NaN</td>\n",
       "    </tr>\n",
       "    <tr>\n",
       "      <th>2</th>\n",
       "      <td>Arizona</td>\n",
       "      <td>29%</td>\n",
       "      <td>577.0</td>\n",
       "      <td>572.0</td>\n",
       "      <td>1149.0</td>\n",
       "      <td>NaN</td>\n",
       "      <td>NaN</td>\n",
       "      <td>NaN</td>\n",
       "    </tr>\n",
       "    <tr>\n",
       "      <th>3</th>\n",
       "      <td>Arkansas</td>\n",
       "      <td>5%</td>\n",
       "      <td>592.0</td>\n",
       "      <td>576.0</td>\n",
       "      <td>1169.0</td>\n",
       "      <td>NaN</td>\n",
       "      <td>NaN</td>\n",
       "      <td>NaN</td>\n",
       "    </tr>\n",
       "    <tr>\n",
       "      <th>4</th>\n",
       "      <td>California</td>\n",
       "      <td>60%</td>\n",
       "      <td>540.0</td>\n",
       "      <td>536.0</td>\n",
       "      <td>1076.0</td>\n",
       "      <td>NaN</td>\n",
       "      <td>NaN</td>\n",
       "      <td>NaN</td>\n",
       "    </tr>\n",
       "    <tr>\n",
       "      <th>5</th>\n",
       "      <td>Colorado</td>\n",
       "      <td>100%</td>\n",
       "      <td>519.0</td>\n",
       "      <td>506.0</td>\n",
       "      <td>1025.0</td>\n",
       "      <td>NaN</td>\n",
       "      <td>NaN</td>\n",
       "      <td>NaN</td>\n",
       "    </tr>\n",
       "    <tr>\n",
       "      <th>6</th>\n",
       "      <td>Connecticut</td>\n",
       "      <td>100%</td>\n",
       "      <td>535.0</td>\n",
       "      <td>519.0</td>\n",
       "      <td>1053.0</td>\n",
       "      <td>NaN</td>\n",
       "      <td>NaN</td>\n",
       "      <td>NaN</td>\n",
       "    </tr>\n",
       "    <tr>\n",
       "      <th>7</th>\n",
       "      <td>Delaware</td>\n",
       "      <td>100%</td>\n",
       "      <td>505.0</td>\n",
       "      <td>492.0</td>\n",
       "      <td>998.0</td>\n",
       "      <td>NaN</td>\n",
       "      <td>NaN</td>\n",
       "      <td>NaN</td>\n",
       "    </tr>\n",
       "    <tr>\n",
       "      <th>8</th>\n",
       "      <td>District of Columbia</td>\n",
       "      <td>92%</td>\n",
       "      <td>497.0</td>\n",
       "      <td>480.0</td>\n",
       "      <td>977.0</td>\n",
       "      <td>NaN</td>\n",
       "      <td>NaN</td>\n",
       "      <td>NaN</td>\n",
       "    </tr>\n",
       "    <tr>\n",
       "      <th>9</th>\n",
       "      <td>Florida</td>\n",
       "      <td>56%</td>\n",
       "      <td>550.0</td>\n",
       "      <td>549.0</td>\n",
       "      <td>1099.0</td>\n",
       "      <td>NaN</td>\n",
       "      <td>NaN</td>\n",
       "      <td>NaN</td>\n",
       "    </tr>\n",
       "  </tbody>\n",
       "</table>\n",
       "</div>"
      ],
      "text/plain": [
       "                  State Participation  Evidence-Based Reading and Writing  \\\n",
       "0               Alabama            6%                               595.0   \n",
       "1                Alaska           43%                               562.0   \n",
       "2               Arizona           29%                               577.0   \n",
       "3              Arkansas            5%                               592.0   \n",
       "4            California           60%                               540.0   \n",
       "5              Colorado          100%                               519.0   \n",
       "6           Connecticut          100%                               535.0   \n",
       "7              Delaware          100%                               505.0   \n",
       "8  District of Columbia           92%                               497.0   \n",
       "9               Florida           56%                               550.0   \n",
       "\n",
       "    Math   Total  Unnamed: 5  Unnamed: 6  Unnamed: 7  \n",
       "0  571.0  1166.0         NaN         NaN         NaN  \n",
       "1  544.0  1106.0         NaN         NaN         NaN  \n",
       "2  572.0  1149.0         NaN         NaN         NaN  \n",
       "3  576.0  1169.0         NaN         NaN         NaN  \n",
       "4  536.0  1076.0         NaN         NaN         NaN  \n",
       "5  506.0  1025.0         NaN         NaN         NaN  \n",
       "6  519.0  1053.0         NaN         NaN         NaN  \n",
       "7  492.0   998.0         NaN         NaN         NaN  \n",
       "8  480.0   977.0         NaN         NaN         NaN  \n",
       "9  549.0  1099.0         NaN         NaN         NaN  "
      ]
     },
     "execution_count": 35,
     "metadata": {},
     "output_type": "execute_result"
    }
   ],
   "source": [
    "sat_2018.head(10)"
   ]
  },
  {
   "cell_type": "code",
   "execution_count": 36,
   "metadata": {},
   "outputs": [
    {
     "data": {
      "text/plain": [
       "State                                  object\n",
       "Participation                          object\n",
       "Evidence-Based Reading and Writing    float64\n",
       "Math                                  float64\n",
       "Total                                 float64\n",
       "Unnamed: 5                            float64\n",
       "Unnamed: 6                            float64\n",
       "Unnamed: 7                            float64\n",
       "dtype: object"
      ]
     },
     "execution_count": 36,
     "metadata": {},
     "output_type": "execute_result"
    }
   ],
   "source": [
    "#checking datatypes to spot any inconsistencies\n",
    "sat_2018.dtypes"
   ]
  },
  {
   "cell_type": "code",
   "execution_count": 37,
   "metadata": {},
   "outputs": [
    {
     "data": {
      "text/plain": [
       "<bound method DataFrame.sort_values of     Unnamed: 5  Unnamed: 6  Unnamed: 7\n",
       "0          NaN         NaN         NaN\n",
       "1          NaN         NaN         NaN\n",
       "2          NaN         NaN         NaN\n",
       "3          NaN         NaN         NaN\n",
       "4          NaN         NaN         NaN\n",
       "5          NaN         NaN         NaN\n",
       "6          NaN         NaN         NaN\n",
       "7          NaN         NaN         NaN\n",
       "8          NaN         NaN         NaN\n",
       "9          NaN         NaN         NaN\n",
       "10         NaN         NaN         NaN\n",
       "11         NaN         NaN         NaN\n",
       "12         NaN         NaN         NaN\n",
       "13         NaN         NaN         NaN\n",
       "14         NaN         NaN         NaN\n",
       "15         NaN         NaN         NaN\n",
       "16         NaN         NaN         NaN\n",
       "17         NaN         NaN         NaN\n",
       "18         NaN         NaN         NaN\n",
       "19         NaN         NaN         NaN\n",
       "20         NaN         NaN         NaN\n",
       "21         NaN         NaN         NaN\n",
       "22         NaN         NaN         NaN\n",
       "23         NaN         NaN         NaN\n",
       "24         NaN         NaN         NaN\n",
       "25         NaN         NaN         NaN\n",
       "26         NaN         NaN         NaN\n",
       "27         NaN         NaN         NaN\n",
       "28         NaN         NaN         NaN\n",
       "29         NaN         NaN         NaN\n",
       "30         NaN         NaN         NaN\n",
       "31         NaN         NaN         NaN\n",
       "32         NaN         NaN         NaN\n",
       "33         NaN         NaN         NaN\n",
       "34         NaN         NaN         NaN\n",
       "35         NaN         NaN         NaN\n",
       "36         NaN         NaN         NaN\n",
       "37         NaN         NaN         NaN\n",
       "38         NaN         NaN         NaN\n",
       "39         NaN         NaN         NaN\n",
       "40         NaN         NaN         NaN\n",
       "41         NaN         NaN         NaN\n",
       "42         NaN         NaN         NaN\n",
       "43         NaN         NaN         NaN\n",
       "44         NaN         NaN         NaN\n",
       "45         NaN         NaN         NaN\n",
       "46         NaN         NaN         NaN\n",
       "47         NaN         NaN         NaN\n",
       "48         NaN         NaN         NaN\n",
       "49         NaN         NaN         NaN\n",
       "50         NaN         NaN         NaN\n",
       "51         NaN         NaN         NaN>"
      ]
     },
     "execution_count": 37,
     "metadata": {},
     "output_type": "execute_result"
    }
   ],
   "source": [
    "#checking whether there are any/enough useful values in the 'Unnamed' columns before deleting them\n",
    "sat_2018[['Unnamed: 5', 'Unnamed: 6', 'Unnamed: 7']].sort_values"
   ]
  },
  {
   "cell_type": "code",
   "execution_count": 38,
   "metadata": {},
   "outputs": [],
   "source": [
    "#Dropping the columns full of NaN values\n",
    "sat_2018.drop(['Unnamed: 5', 'Unnamed: 6', 'Unnamed: 7'], axis =1, inplace=True)"
   ]
  },
  {
   "cell_type": "code",
   "execution_count": 39,
   "metadata": {},
   "outputs": [],
   "source": [
    "#Removing row 51 that is also entirely NaN values\n",
    "sat_2018.drop([51], inplace=True)"
   ]
  },
  {
   "cell_type": "code",
   "execution_count": 40,
   "metadata": {},
   "outputs": [],
   "source": [
    "#Now, because the ACT data shows only the States, composite scores and participation percentages, I will remove the SAT columns that do not correspond to those (i.e. - states, participation % and state total scores), so as to avoid a cluttered table\n",
    "sat_2018.drop(['Evidence-Based Reading and Writing', 'Math'], axis=1, inplace=True)"
   ]
  },
  {
   "cell_type": "code",
   "execution_count": 41,
   "metadata": {},
   "outputs": [],
   "source": [
    "#coverting 'Participation' column in type int\n",
    "sat_2018['Participation'] = pd.to_numeric(sat_2018['Participation'].str.replace('%', ''))"
   ]
  },
  {
   "cell_type": "code",
   "execution_count": 42,
   "metadata": {},
   "outputs": [
    {
     "data": {
      "text/html": [
       "<div>\n",
       "<style scoped>\n",
       "    .dataframe tbody tr th:only-of-type {\n",
       "        vertical-align: middle;\n",
       "    }\n",
       "\n",
       "    .dataframe tbody tr th {\n",
       "        vertical-align: top;\n",
       "    }\n",
       "\n",
       "    .dataframe thead th {\n",
       "        text-align: right;\n",
       "    }\n",
       "</style>\n",
       "<table border=\"1\" class=\"dataframe\">\n",
       "  <thead>\n",
       "    <tr style=\"text-align: right;\">\n",
       "      <th></th>\n",
       "      <th>State</th>\n",
       "      <th>Participation</th>\n",
       "      <th>Total</th>\n",
       "    </tr>\n",
       "  </thead>\n",
       "  <tbody>\n",
       "    <tr>\n",
       "      <th>0</th>\n",
       "      <td>Alabama</td>\n",
       "      <td>6</td>\n",
       "      <td>1166.0</td>\n",
       "    </tr>\n",
       "    <tr>\n",
       "      <th>1</th>\n",
       "      <td>Alaska</td>\n",
       "      <td>43</td>\n",
       "      <td>1106.0</td>\n",
       "    </tr>\n",
       "    <tr>\n",
       "      <th>2</th>\n",
       "      <td>Arizona</td>\n",
       "      <td>29</td>\n",
       "      <td>1149.0</td>\n",
       "    </tr>\n",
       "    <tr>\n",
       "      <th>3</th>\n",
       "      <td>Arkansas</td>\n",
       "      <td>5</td>\n",
       "      <td>1169.0</td>\n",
       "    </tr>\n",
       "    <tr>\n",
       "      <th>4</th>\n",
       "      <td>California</td>\n",
       "      <td>60</td>\n",
       "      <td>1076.0</td>\n",
       "    </tr>\n",
       "    <tr>\n",
       "      <th>5</th>\n",
       "      <td>Colorado</td>\n",
       "      <td>100</td>\n",
       "      <td>1025.0</td>\n",
       "    </tr>\n",
       "    <tr>\n",
       "      <th>6</th>\n",
       "      <td>Connecticut</td>\n",
       "      <td>100</td>\n",
       "      <td>1053.0</td>\n",
       "    </tr>\n",
       "    <tr>\n",
       "      <th>7</th>\n",
       "      <td>Delaware</td>\n",
       "      <td>100</td>\n",
       "      <td>998.0</td>\n",
       "    </tr>\n",
       "    <tr>\n",
       "      <th>8</th>\n",
       "      <td>District of Columbia</td>\n",
       "      <td>92</td>\n",
       "      <td>977.0</td>\n",
       "    </tr>\n",
       "    <tr>\n",
       "      <th>9</th>\n",
       "      <td>Florida</td>\n",
       "      <td>56</td>\n",
       "      <td>1099.0</td>\n",
       "    </tr>\n",
       "    <tr>\n",
       "      <th>10</th>\n",
       "      <td>Georgia</td>\n",
       "      <td>70</td>\n",
       "      <td>1064.0</td>\n",
       "    </tr>\n",
       "    <tr>\n",
       "      <th>11</th>\n",
       "      <td>Hawaii</td>\n",
       "      <td>56</td>\n",
       "      <td>1010.0</td>\n",
       "    </tr>\n",
       "    <tr>\n",
       "      <th>12</th>\n",
       "      <td>Idaho</td>\n",
       "      <td>100</td>\n",
       "      <td>1001.0</td>\n",
       "    </tr>\n",
       "    <tr>\n",
       "      <th>13</th>\n",
       "      <td>Illinois</td>\n",
       "      <td>99</td>\n",
       "      <td>1019.0</td>\n",
       "    </tr>\n",
       "    <tr>\n",
       "      <th>14</th>\n",
       "      <td>Indiana</td>\n",
       "      <td>63</td>\n",
       "      <td>1074.0</td>\n",
       "    </tr>\n",
       "    <tr>\n",
       "      <th>15</th>\n",
       "      <td>Iowa</td>\n",
       "      <td>3</td>\n",
       "      <td>1265.0</td>\n",
       "    </tr>\n",
       "    <tr>\n",
       "      <th>16</th>\n",
       "      <td>Kansas</td>\n",
       "      <td>4</td>\n",
       "      <td>1265.0</td>\n",
       "    </tr>\n",
       "    <tr>\n",
       "      <th>17</th>\n",
       "      <td>Kentucky</td>\n",
       "      <td>4</td>\n",
       "      <td>1248.0</td>\n",
       "    </tr>\n",
       "    <tr>\n",
       "      <th>18</th>\n",
       "      <td>Louisiana</td>\n",
       "      <td>4</td>\n",
       "      <td>1210.0</td>\n",
       "    </tr>\n",
       "    <tr>\n",
       "      <th>19</th>\n",
       "      <td>Maine</td>\n",
       "      <td>99</td>\n",
       "      <td>1013.0</td>\n",
       "    </tr>\n",
       "    <tr>\n",
       "      <th>20</th>\n",
       "      <td>Maryland</td>\n",
       "      <td>76</td>\n",
       "      <td>1080.0</td>\n",
       "    </tr>\n",
       "    <tr>\n",
       "      <th>21</th>\n",
       "      <td>Massachusetts</td>\n",
       "      <td>80</td>\n",
       "      <td>1125.0</td>\n",
       "    </tr>\n",
       "    <tr>\n",
       "      <th>22</th>\n",
       "      <td>Michigan</td>\n",
       "      <td>100</td>\n",
       "      <td>1011.0</td>\n",
       "    </tr>\n",
       "    <tr>\n",
       "      <th>23</th>\n",
       "      <td>Minnesota</td>\n",
       "      <td>4</td>\n",
       "      <td>1298.0</td>\n",
       "    </tr>\n",
       "    <tr>\n",
       "      <th>24</th>\n",
       "      <td>Mississippi</td>\n",
       "      <td>3</td>\n",
       "      <td>1236.0</td>\n",
       "    </tr>\n",
       "    <tr>\n",
       "      <th>25</th>\n",
       "      <td>Missouri</td>\n",
       "      <td>4</td>\n",
       "      <td>1262.0</td>\n",
       "    </tr>\n",
       "    <tr>\n",
       "      <th>26</th>\n",
       "      <td>Montana</td>\n",
       "      <td>10</td>\n",
       "      <td>1198.0</td>\n",
       "    </tr>\n",
       "    <tr>\n",
       "      <th>27</th>\n",
       "      <td>Nebraska</td>\n",
       "      <td>3</td>\n",
       "      <td>1252.0</td>\n",
       "    </tr>\n",
       "    <tr>\n",
       "      <th>28</th>\n",
       "      <td>Nevada</td>\n",
       "      <td>23</td>\n",
       "      <td>1140.0</td>\n",
       "    </tr>\n",
       "    <tr>\n",
       "      <th>29</th>\n",
       "      <td>New Hampshire</td>\n",
       "      <td>96</td>\n",
       "      <td>1063.0</td>\n",
       "    </tr>\n",
       "    <tr>\n",
       "      <th>30</th>\n",
       "      <td>New Jersey</td>\n",
       "      <td>82</td>\n",
       "      <td>1094.0</td>\n",
       "    </tr>\n",
       "    <tr>\n",
       "      <th>31</th>\n",
       "      <td>New Mexico</td>\n",
       "      <td>16</td>\n",
       "      <td>1093.0</td>\n",
       "    </tr>\n",
       "    <tr>\n",
       "      <th>32</th>\n",
       "      <td>New York</td>\n",
       "      <td>79</td>\n",
       "      <td>1068.0</td>\n",
       "    </tr>\n",
       "    <tr>\n",
       "      <th>33</th>\n",
       "      <td>North Carolina</td>\n",
       "      <td>52</td>\n",
       "      <td>1098.0</td>\n",
       "    </tr>\n",
       "    <tr>\n",
       "      <th>34</th>\n",
       "      <td>North Dakota</td>\n",
       "      <td>2</td>\n",
       "      <td>1283.0</td>\n",
       "    </tr>\n",
       "    <tr>\n",
       "      <th>35</th>\n",
       "      <td>Oklahoma</td>\n",
       "      <td>8</td>\n",
       "      <td>1062.0</td>\n",
       "    </tr>\n",
       "    <tr>\n",
       "      <th>36</th>\n",
       "      <td>Ohio</td>\n",
       "      <td>18</td>\n",
       "      <td>1099.0</td>\n",
       "    </tr>\n",
       "    <tr>\n",
       "      <th>37</th>\n",
       "      <td>Oregon</td>\n",
       "      <td>48</td>\n",
       "      <td>1117.0</td>\n",
       "    </tr>\n",
       "    <tr>\n",
       "      <th>38</th>\n",
       "      <td>Pennsylvania</td>\n",
       "      <td>70</td>\n",
       "      <td>1086.0</td>\n",
       "    </tr>\n",
       "    <tr>\n",
       "      <th>39</th>\n",
       "      <td>Rhode Island</td>\n",
       "      <td>97</td>\n",
       "      <td>1018.0</td>\n",
       "    </tr>\n",
       "    <tr>\n",
       "      <th>40</th>\n",
       "      <td>South Carolina</td>\n",
       "      <td>55</td>\n",
       "      <td>1070.0</td>\n",
       "    </tr>\n",
       "    <tr>\n",
       "      <th>41</th>\n",
       "      <td>South Dakota</td>\n",
       "      <td>3</td>\n",
       "      <td>1240.0</td>\n",
       "    </tr>\n",
       "    <tr>\n",
       "      <th>42</th>\n",
       "      <td>Tennessee</td>\n",
       "      <td>6</td>\n",
       "      <td>1231.0</td>\n",
       "    </tr>\n",
       "    <tr>\n",
       "      <th>43</th>\n",
       "      <td>Texas</td>\n",
       "      <td>66</td>\n",
       "      <td>1032.0</td>\n",
       "    </tr>\n",
       "    <tr>\n",
       "      <th>44</th>\n",
       "      <td>Utah</td>\n",
       "      <td>4</td>\n",
       "      <td>1010.0</td>\n",
       "    </tr>\n",
       "    <tr>\n",
       "      <th>45</th>\n",
       "      <td>Vermont</td>\n",
       "      <td>64</td>\n",
       "      <td>1120.0</td>\n",
       "    </tr>\n",
       "    <tr>\n",
       "      <th>46</th>\n",
       "      <td>Virginia</td>\n",
       "      <td>68</td>\n",
       "      <td>1117.0</td>\n",
       "    </tr>\n",
       "    <tr>\n",
       "      <th>47</th>\n",
       "      <td>Washington</td>\n",
       "      <td>69</td>\n",
       "      <td>1081.0</td>\n",
       "    </tr>\n",
       "    <tr>\n",
       "      <th>48</th>\n",
       "      <td>West Virginia</td>\n",
       "      <td>28</td>\n",
       "      <td>999.0</td>\n",
       "    </tr>\n",
       "    <tr>\n",
       "      <th>49</th>\n",
       "      <td>Wisconsin</td>\n",
       "      <td>3</td>\n",
       "      <td>1294.0</td>\n",
       "    </tr>\n",
       "    <tr>\n",
       "      <th>50</th>\n",
       "      <td>Wyoming</td>\n",
       "      <td>3</td>\n",
       "      <td>1257.0</td>\n",
       "    </tr>\n",
       "  </tbody>\n",
       "</table>\n",
       "</div>"
      ],
      "text/plain": [
       "                   State  Participation   Total\n",
       "0                Alabama              6  1166.0\n",
       "1                 Alaska             43  1106.0\n",
       "2                Arizona             29  1149.0\n",
       "3               Arkansas              5  1169.0\n",
       "4             California             60  1076.0\n",
       "5               Colorado            100  1025.0\n",
       "6            Connecticut            100  1053.0\n",
       "7               Delaware            100   998.0\n",
       "8   District of Columbia             92   977.0\n",
       "9                Florida             56  1099.0\n",
       "10               Georgia             70  1064.0\n",
       "11                Hawaii             56  1010.0\n",
       "12                 Idaho            100  1001.0\n",
       "13              Illinois             99  1019.0\n",
       "14               Indiana             63  1074.0\n",
       "15                  Iowa              3  1265.0\n",
       "16                Kansas              4  1265.0\n",
       "17              Kentucky              4  1248.0\n",
       "18             Louisiana              4  1210.0\n",
       "19                 Maine             99  1013.0\n",
       "20              Maryland             76  1080.0\n",
       "21         Massachusetts             80  1125.0\n",
       "22              Michigan            100  1011.0\n",
       "23             Minnesota              4  1298.0\n",
       "24           Mississippi              3  1236.0\n",
       "25              Missouri              4  1262.0\n",
       "26               Montana             10  1198.0\n",
       "27              Nebraska              3  1252.0\n",
       "28                Nevada             23  1140.0\n",
       "29         New Hampshire             96  1063.0\n",
       "30            New Jersey             82  1094.0\n",
       "31            New Mexico             16  1093.0\n",
       "32              New York             79  1068.0\n",
       "33        North Carolina             52  1098.0\n",
       "34          North Dakota              2  1283.0\n",
       "35              Oklahoma              8  1062.0\n",
       "36                  Ohio             18  1099.0\n",
       "37                Oregon             48  1117.0\n",
       "38          Pennsylvania             70  1086.0\n",
       "39          Rhode Island             97  1018.0\n",
       "40        South Carolina             55  1070.0\n",
       "41          South Dakota              3  1240.0\n",
       "42             Tennessee              6  1231.0\n",
       "43                 Texas             66  1032.0\n",
       "44                  Utah              4  1010.0\n",
       "45               Vermont             64  1120.0\n",
       "46              Virginia             68  1117.0\n",
       "47            Washington             69  1081.0\n",
       "48         West Virginia             28   999.0\n",
       "49             Wisconsin              3  1294.0\n",
       "50               Wyoming              3  1257.0"
      ]
     },
     "execution_count": 42,
     "metadata": {},
     "output_type": "execute_result"
    }
   ],
   "source": [
    "sat_2018"
   ]
  },
  {
   "cell_type": "code",
   "execution_count": 43,
   "metadata": {},
   "outputs": [],
   "source": [
    "#Giving the columns more meaningful names\n",
    "sat2018_column_dict = {'State': 'state',\n",
    "                      'Participation': 'sat2018_participation',                   \n",
    "                      'Total': 'sat2018_total'}"
   ]
  },
  {
   "cell_type": "code",
   "execution_count": 44,
   "metadata": {},
   "outputs": [],
   "source": [
    "sat_2018.rename(columns=sat2018_column_dict, inplace=True)"
   ]
  },
  {
   "cell_type": "code",
   "execution_count": 45,
   "metadata": {},
   "outputs": [
    {
     "data": {
      "text/plain": [
       "State             object\n",
       "Participation     object\n",
       "Composite        float64\n",
       "dtype: object"
      ]
     },
     "execution_count": 45,
     "metadata": {},
     "output_type": "execute_result"
    }
   ],
   "source": [
    "act_2018.dtypes"
   ]
  },
  {
   "cell_type": "code",
   "execution_count": 46,
   "metadata": {},
   "outputs": [
    {
     "data": {
      "text/html": [
       "<div>\n",
       "<style scoped>\n",
       "    .dataframe tbody tr th:only-of-type {\n",
       "        vertical-align: middle;\n",
       "    }\n",
       "\n",
       "    .dataframe tbody tr th {\n",
       "        vertical-align: top;\n",
       "    }\n",
       "\n",
       "    .dataframe thead th {\n",
       "        text-align: right;\n",
       "    }\n",
       "</style>\n",
       "<table border=\"1\" class=\"dataframe\">\n",
       "  <thead>\n",
       "    <tr style=\"text-align: right;\">\n",
       "      <th></th>\n",
       "      <th>State</th>\n",
       "      <th>Participation</th>\n",
       "      <th>Composite</th>\n",
       "    </tr>\n",
       "  </thead>\n",
       "  <tbody>\n",
       "    <tr>\n",
       "      <th>0</th>\n",
       "      <td>Alabama</td>\n",
       "      <td>100%</td>\n",
       "      <td>19.1</td>\n",
       "    </tr>\n",
       "    <tr>\n",
       "      <th>1</th>\n",
       "      <td>Alaska</td>\n",
       "      <td>33%</td>\n",
       "      <td>20.8</td>\n",
       "    </tr>\n",
       "    <tr>\n",
       "      <th>2</th>\n",
       "      <td>Arizona</td>\n",
       "      <td>66%</td>\n",
       "      <td>19.2</td>\n",
       "    </tr>\n",
       "    <tr>\n",
       "      <th>3</th>\n",
       "      <td>Arkansas</td>\n",
       "      <td>100%</td>\n",
       "      <td>19.4</td>\n",
       "    </tr>\n",
       "    <tr>\n",
       "      <th>4</th>\n",
       "      <td>California</td>\n",
       "      <td>27%</td>\n",
       "      <td>22.7</td>\n",
       "    </tr>\n",
       "    <tr>\n",
       "      <th>5</th>\n",
       "      <td>Colorado</td>\n",
       "      <td>30%</td>\n",
       "      <td>23.9</td>\n",
       "    </tr>\n",
       "    <tr>\n",
       "      <th>6</th>\n",
       "      <td>Connecticut</td>\n",
       "      <td>26%</td>\n",
       "      <td>25.6</td>\n",
       "    </tr>\n",
       "    <tr>\n",
       "      <th>7</th>\n",
       "      <td>Delaware</td>\n",
       "      <td>17%</td>\n",
       "      <td>23.8</td>\n",
       "    </tr>\n",
       "    <tr>\n",
       "      <th>8</th>\n",
       "      <td>District of columbia</td>\n",
       "      <td>32%</td>\n",
       "      <td>23.6</td>\n",
       "    </tr>\n",
       "    <tr>\n",
       "      <th>9</th>\n",
       "      <td>Florida</td>\n",
       "      <td>66%</td>\n",
       "      <td>19.9</td>\n",
       "    </tr>\n",
       "    <tr>\n",
       "      <th>10</th>\n",
       "      <td>Georgia</td>\n",
       "      <td>53%</td>\n",
       "      <td>21.4</td>\n",
       "    </tr>\n",
       "    <tr>\n",
       "      <th>11</th>\n",
       "      <td>Hawaii</td>\n",
       "      <td>89%</td>\n",
       "      <td>18.9</td>\n",
       "    </tr>\n",
       "    <tr>\n",
       "      <th>12</th>\n",
       "      <td>Idaho</td>\n",
       "      <td>36%</td>\n",
       "      <td>22.3</td>\n",
       "    </tr>\n",
       "    <tr>\n",
       "      <th>13</th>\n",
       "      <td>Illinois</td>\n",
       "      <td>43%</td>\n",
       "      <td>23.9</td>\n",
       "    </tr>\n",
       "    <tr>\n",
       "      <th>14</th>\n",
       "      <td>Indiana</td>\n",
       "      <td>32%</td>\n",
       "      <td>22.5</td>\n",
       "    </tr>\n",
       "    <tr>\n",
       "      <th>15</th>\n",
       "      <td>Iowa</td>\n",
       "      <td>68%</td>\n",
       "      <td>21.8</td>\n",
       "    </tr>\n",
       "    <tr>\n",
       "      <th>16</th>\n",
       "      <td>Kansas</td>\n",
       "      <td>71%</td>\n",
       "      <td>21.6</td>\n",
       "    </tr>\n",
       "    <tr>\n",
       "      <th>17</th>\n",
       "      <td>Kentucky</td>\n",
       "      <td>100%</td>\n",
       "      <td>20.2</td>\n",
       "    </tr>\n",
       "    <tr>\n",
       "      <th>18</th>\n",
       "      <td>Louisiana</td>\n",
       "      <td>100%</td>\n",
       "      <td>19.2</td>\n",
       "    </tr>\n",
       "    <tr>\n",
       "      <th>19</th>\n",
       "      <td>Maine</td>\n",
       "      <td>7%</td>\n",
       "      <td>24.0</td>\n",
       "    </tr>\n",
       "    <tr>\n",
       "      <th>20</th>\n",
       "      <td>Maine</td>\n",
       "      <td>7%</td>\n",
       "      <td>24.0</td>\n",
       "    </tr>\n",
       "    <tr>\n",
       "      <th>21</th>\n",
       "      <td>Maryland</td>\n",
       "      <td>31%</td>\n",
       "      <td>22.5</td>\n",
       "    </tr>\n",
       "    <tr>\n",
       "      <th>22</th>\n",
       "      <td>Massachusetts</td>\n",
       "      <td>25%</td>\n",
       "      <td>25.5</td>\n",
       "    </tr>\n",
       "    <tr>\n",
       "      <th>23</th>\n",
       "      <td>Michigan</td>\n",
       "      <td>22%</td>\n",
       "      <td>24.2</td>\n",
       "    </tr>\n",
       "    <tr>\n",
       "      <th>24</th>\n",
       "      <td>Minnesota</td>\n",
       "      <td>99%</td>\n",
       "      <td>21.3</td>\n",
       "    </tr>\n",
       "    <tr>\n",
       "      <th>25</th>\n",
       "      <td>Mississippi</td>\n",
       "      <td>100%</td>\n",
       "      <td>18.6</td>\n",
       "    </tr>\n",
       "    <tr>\n",
       "      <th>26</th>\n",
       "      <td>Missouri</td>\n",
       "      <td>100%</td>\n",
       "      <td>20.0</td>\n",
       "    </tr>\n",
       "    <tr>\n",
       "      <th>27</th>\n",
       "      <td>Montana</td>\n",
       "      <td>100%</td>\n",
       "      <td>20.0</td>\n",
       "    </tr>\n",
       "    <tr>\n",
       "      <th>28</th>\n",
       "      <td>Nebraska</td>\n",
       "      <td>100%</td>\n",
       "      <td>20.1</td>\n",
       "    </tr>\n",
       "    <tr>\n",
       "      <th>29</th>\n",
       "      <td>Nevada</td>\n",
       "      <td>100%</td>\n",
       "      <td>17.7</td>\n",
       "    </tr>\n",
       "    <tr>\n",
       "      <th>30</th>\n",
       "      <td>New Hampshire</td>\n",
       "      <td>16%</td>\n",
       "      <td>25.1</td>\n",
       "    </tr>\n",
       "    <tr>\n",
       "      <th>31</th>\n",
       "      <td>New Jersey</td>\n",
       "      <td>31%</td>\n",
       "      <td>23.7</td>\n",
       "    </tr>\n",
       "    <tr>\n",
       "      <th>32</th>\n",
       "      <td>New Mexico</td>\n",
       "      <td>67%</td>\n",
       "      <td>19.4</td>\n",
       "    </tr>\n",
       "    <tr>\n",
       "      <th>33</th>\n",
       "      <td>New York</td>\n",
       "      <td>27%</td>\n",
       "      <td>24.5</td>\n",
       "    </tr>\n",
       "    <tr>\n",
       "      <th>34</th>\n",
       "      <td>North Carolina</td>\n",
       "      <td>100%</td>\n",
       "      <td>19.1</td>\n",
       "    </tr>\n",
       "    <tr>\n",
       "      <th>35</th>\n",
       "      <td>North Dakota</td>\n",
       "      <td>98%</td>\n",
       "      <td>20.3</td>\n",
       "    </tr>\n",
       "    <tr>\n",
       "      <th>36</th>\n",
       "      <td>Ohio</td>\n",
       "      <td>100%</td>\n",
       "      <td>20.3</td>\n",
       "    </tr>\n",
       "    <tr>\n",
       "      <th>37</th>\n",
       "      <td>Oklahoma</td>\n",
       "      <td>100%</td>\n",
       "      <td>19.3</td>\n",
       "    </tr>\n",
       "    <tr>\n",
       "      <th>38</th>\n",
       "      <td>Oregon</td>\n",
       "      <td>42%</td>\n",
       "      <td>21.3</td>\n",
       "    </tr>\n",
       "    <tr>\n",
       "      <th>39</th>\n",
       "      <td>Pennsylvania</td>\n",
       "      <td>20%</td>\n",
       "      <td>23.5</td>\n",
       "    </tr>\n",
       "    <tr>\n",
       "      <th>40</th>\n",
       "      <td>Rhode Island</td>\n",
       "      <td>15%</td>\n",
       "      <td>24.2</td>\n",
       "    </tr>\n",
       "    <tr>\n",
       "      <th>41</th>\n",
       "      <td>South Carolina</td>\n",
       "      <td>100%</td>\n",
       "      <td>18.3</td>\n",
       "    </tr>\n",
       "    <tr>\n",
       "      <th>42</th>\n",
       "      <td>South Dakota</td>\n",
       "      <td>77%</td>\n",
       "      <td>21.9</td>\n",
       "    </tr>\n",
       "    <tr>\n",
       "      <th>43</th>\n",
       "      <td>Tennessee</td>\n",
       "      <td>100%</td>\n",
       "      <td>19.6</td>\n",
       "    </tr>\n",
       "    <tr>\n",
       "      <th>44</th>\n",
       "      <td>Texas</td>\n",
       "      <td>45%</td>\n",
       "      <td>20.7</td>\n",
       "    </tr>\n",
       "    <tr>\n",
       "      <th>45</th>\n",
       "      <td>Utah</td>\n",
       "      <td>100%</td>\n",
       "      <td>20.4</td>\n",
       "    </tr>\n",
       "    <tr>\n",
       "      <th>46</th>\n",
       "      <td>Vermont</td>\n",
       "      <td>24%</td>\n",
       "      <td>24.1</td>\n",
       "    </tr>\n",
       "    <tr>\n",
       "      <th>47</th>\n",
       "      <td>Virginia</td>\n",
       "      <td>24%</td>\n",
       "      <td>23.9</td>\n",
       "    </tr>\n",
       "    <tr>\n",
       "      <th>48</th>\n",
       "      <td>Washington</td>\n",
       "      <td>24%</td>\n",
       "      <td>22.2</td>\n",
       "    </tr>\n",
       "    <tr>\n",
       "      <th>49</th>\n",
       "      <td>West Virginia</td>\n",
       "      <td>65%</td>\n",
       "      <td>20.3</td>\n",
       "    </tr>\n",
       "    <tr>\n",
       "      <th>50</th>\n",
       "      <td>Wisconsin</td>\n",
       "      <td>100%</td>\n",
       "      <td>20.5</td>\n",
       "    </tr>\n",
       "    <tr>\n",
       "      <th>51</th>\n",
       "      <td>Wyoming</td>\n",
       "      <td>100%</td>\n",
       "      <td>20.0</td>\n",
       "    </tr>\n",
       "    <tr>\n",
       "      <th>52</th>\n",
       "      <td>NaN</td>\n",
       "      <td>NaN</td>\n",
       "      <td>NaN</td>\n",
       "    </tr>\n",
       "    <tr>\n",
       "      <th>53</th>\n",
       "      <td>NaN</td>\n",
       "      <td>NaN</td>\n",
       "      <td>NaN</td>\n",
       "    </tr>\n",
       "  </tbody>\n",
       "</table>\n",
       "</div>"
      ],
      "text/plain": [
       "                   State Participation  Composite\n",
       "0                Alabama          100%       19.1\n",
       "1                 Alaska           33%       20.8\n",
       "2                Arizona           66%       19.2\n",
       "3               Arkansas          100%       19.4\n",
       "4             California           27%       22.7\n",
       "5               Colorado           30%       23.9\n",
       "6            Connecticut           26%       25.6\n",
       "7               Delaware           17%       23.8\n",
       "8   District of columbia           32%       23.6\n",
       "9                Florida           66%       19.9\n",
       "10               Georgia           53%       21.4\n",
       "11                Hawaii           89%       18.9\n",
       "12                 Idaho           36%       22.3\n",
       "13              Illinois           43%       23.9\n",
       "14               Indiana           32%       22.5\n",
       "15                  Iowa           68%       21.8\n",
       "16                Kansas           71%       21.6\n",
       "17              Kentucky          100%       20.2\n",
       "18             Louisiana          100%       19.2\n",
       "19                 Maine            7%       24.0\n",
       "20                 Maine            7%       24.0\n",
       "21              Maryland           31%       22.5\n",
       "22         Massachusetts           25%       25.5\n",
       "23              Michigan           22%       24.2\n",
       "24             Minnesota           99%       21.3\n",
       "25           Mississippi          100%       18.6\n",
       "26              Missouri          100%       20.0\n",
       "27               Montana          100%       20.0\n",
       "28              Nebraska          100%       20.1\n",
       "29                Nevada          100%       17.7\n",
       "30         New Hampshire           16%       25.1\n",
       "31            New Jersey           31%       23.7\n",
       "32            New Mexico           67%       19.4\n",
       "33              New York           27%       24.5\n",
       "34        North Carolina          100%       19.1\n",
       "35          North Dakota           98%       20.3\n",
       "36                  Ohio          100%       20.3\n",
       "37              Oklahoma          100%       19.3\n",
       "38                Oregon           42%       21.3\n",
       "39          Pennsylvania           20%       23.5\n",
       "40          Rhode Island           15%       24.2\n",
       "41        South Carolina          100%       18.3\n",
       "42          South Dakota           77%       21.9\n",
       "43             Tennessee          100%       19.6\n",
       "44                 Texas           45%       20.7\n",
       "45                  Utah          100%       20.4\n",
       "46               Vermont           24%       24.1\n",
       "47              Virginia           24%       23.9\n",
       "48            Washington           24%       22.2\n",
       "49         West Virginia           65%       20.3\n",
       "50             Wisconsin          100%       20.5\n",
       "51               Wyoming          100%       20.0\n",
       "52                   NaN           NaN        NaN\n",
       "53                   NaN           NaN        NaN"
      ]
     },
     "execution_count": 46,
     "metadata": {},
     "output_type": "execute_result"
    }
   ],
   "source": [
    "act_2018"
   ]
  },
  {
   "cell_type": "code",
   "execution_count": 47,
   "metadata": {},
   "outputs": [],
   "source": [
    "#Removing the last 2 rows holding only 'NaN' values, as well as the duplicate 'Maine' row\n",
    "act_2018.drop([20,52,53], inplace=True)"
   ]
  },
  {
   "cell_type": "code",
   "execution_count": 48,
   "metadata": {},
   "outputs": [
    {
     "data": {
      "text/html": [
       "<div>\n",
       "<style scoped>\n",
       "    .dataframe tbody tr th:only-of-type {\n",
       "        vertical-align: middle;\n",
       "    }\n",
       "\n",
       "    .dataframe tbody tr th {\n",
       "        vertical-align: top;\n",
       "    }\n",
       "\n",
       "    .dataframe thead th {\n",
       "        text-align: right;\n",
       "    }\n",
       "</style>\n",
       "<table border=\"1\" class=\"dataframe\">\n",
       "  <thead>\n",
       "    <tr style=\"text-align: right;\">\n",
       "      <th></th>\n",
       "      <th>State</th>\n",
       "      <th>Participation</th>\n",
       "      <th>Composite</th>\n",
       "    </tr>\n",
       "  </thead>\n",
       "  <tbody>\n",
       "    <tr>\n",
       "      <th>0</th>\n",
       "      <td>Alabama</td>\n",
       "      <td>100%</td>\n",
       "      <td>19.1</td>\n",
       "    </tr>\n",
       "    <tr>\n",
       "      <th>1</th>\n",
       "      <td>Alaska</td>\n",
       "      <td>33%</td>\n",
       "      <td>20.8</td>\n",
       "    </tr>\n",
       "    <tr>\n",
       "      <th>2</th>\n",
       "      <td>Arizona</td>\n",
       "      <td>66%</td>\n",
       "      <td>19.2</td>\n",
       "    </tr>\n",
       "    <tr>\n",
       "      <th>3</th>\n",
       "      <td>Arkansas</td>\n",
       "      <td>100%</td>\n",
       "      <td>19.4</td>\n",
       "    </tr>\n",
       "    <tr>\n",
       "      <th>4</th>\n",
       "      <td>California</td>\n",
       "      <td>27%</td>\n",
       "      <td>22.7</td>\n",
       "    </tr>\n",
       "    <tr>\n",
       "      <th>5</th>\n",
       "      <td>Colorado</td>\n",
       "      <td>30%</td>\n",
       "      <td>23.9</td>\n",
       "    </tr>\n",
       "    <tr>\n",
       "      <th>6</th>\n",
       "      <td>Connecticut</td>\n",
       "      <td>26%</td>\n",
       "      <td>25.6</td>\n",
       "    </tr>\n",
       "    <tr>\n",
       "      <th>7</th>\n",
       "      <td>Delaware</td>\n",
       "      <td>17%</td>\n",
       "      <td>23.8</td>\n",
       "    </tr>\n",
       "    <tr>\n",
       "      <th>8</th>\n",
       "      <td>District of columbia</td>\n",
       "      <td>32%</td>\n",
       "      <td>23.6</td>\n",
       "    </tr>\n",
       "    <tr>\n",
       "      <th>9</th>\n",
       "      <td>Florida</td>\n",
       "      <td>66%</td>\n",
       "      <td>19.9</td>\n",
       "    </tr>\n",
       "    <tr>\n",
       "      <th>10</th>\n",
       "      <td>Georgia</td>\n",
       "      <td>53%</td>\n",
       "      <td>21.4</td>\n",
       "    </tr>\n",
       "    <tr>\n",
       "      <th>11</th>\n",
       "      <td>Hawaii</td>\n",
       "      <td>89%</td>\n",
       "      <td>18.9</td>\n",
       "    </tr>\n",
       "    <tr>\n",
       "      <th>12</th>\n",
       "      <td>Idaho</td>\n",
       "      <td>36%</td>\n",
       "      <td>22.3</td>\n",
       "    </tr>\n",
       "    <tr>\n",
       "      <th>13</th>\n",
       "      <td>Illinois</td>\n",
       "      <td>43%</td>\n",
       "      <td>23.9</td>\n",
       "    </tr>\n",
       "    <tr>\n",
       "      <th>14</th>\n",
       "      <td>Indiana</td>\n",
       "      <td>32%</td>\n",
       "      <td>22.5</td>\n",
       "    </tr>\n",
       "    <tr>\n",
       "      <th>15</th>\n",
       "      <td>Iowa</td>\n",
       "      <td>68%</td>\n",
       "      <td>21.8</td>\n",
       "    </tr>\n",
       "    <tr>\n",
       "      <th>16</th>\n",
       "      <td>Kansas</td>\n",
       "      <td>71%</td>\n",
       "      <td>21.6</td>\n",
       "    </tr>\n",
       "    <tr>\n",
       "      <th>17</th>\n",
       "      <td>Kentucky</td>\n",
       "      <td>100%</td>\n",
       "      <td>20.2</td>\n",
       "    </tr>\n",
       "    <tr>\n",
       "      <th>18</th>\n",
       "      <td>Louisiana</td>\n",
       "      <td>100%</td>\n",
       "      <td>19.2</td>\n",
       "    </tr>\n",
       "    <tr>\n",
       "      <th>19</th>\n",
       "      <td>Maine</td>\n",
       "      <td>7%</td>\n",
       "      <td>24.0</td>\n",
       "    </tr>\n",
       "    <tr>\n",
       "      <th>21</th>\n",
       "      <td>Maryland</td>\n",
       "      <td>31%</td>\n",
       "      <td>22.5</td>\n",
       "    </tr>\n",
       "    <tr>\n",
       "      <th>22</th>\n",
       "      <td>Massachusetts</td>\n",
       "      <td>25%</td>\n",
       "      <td>25.5</td>\n",
       "    </tr>\n",
       "    <tr>\n",
       "      <th>23</th>\n",
       "      <td>Michigan</td>\n",
       "      <td>22%</td>\n",
       "      <td>24.2</td>\n",
       "    </tr>\n",
       "    <tr>\n",
       "      <th>24</th>\n",
       "      <td>Minnesota</td>\n",
       "      <td>99%</td>\n",
       "      <td>21.3</td>\n",
       "    </tr>\n",
       "    <tr>\n",
       "      <th>25</th>\n",
       "      <td>Mississippi</td>\n",
       "      <td>100%</td>\n",
       "      <td>18.6</td>\n",
       "    </tr>\n",
       "    <tr>\n",
       "      <th>26</th>\n",
       "      <td>Missouri</td>\n",
       "      <td>100%</td>\n",
       "      <td>20.0</td>\n",
       "    </tr>\n",
       "    <tr>\n",
       "      <th>27</th>\n",
       "      <td>Montana</td>\n",
       "      <td>100%</td>\n",
       "      <td>20.0</td>\n",
       "    </tr>\n",
       "    <tr>\n",
       "      <th>28</th>\n",
       "      <td>Nebraska</td>\n",
       "      <td>100%</td>\n",
       "      <td>20.1</td>\n",
       "    </tr>\n",
       "    <tr>\n",
       "      <th>29</th>\n",
       "      <td>Nevada</td>\n",
       "      <td>100%</td>\n",
       "      <td>17.7</td>\n",
       "    </tr>\n",
       "    <tr>\n",
       "      <th>30</th>\n",
       "      <td>New Hampshire</td>\n",
       "      <td>16%</td>\n",
       "      <td>25.1</td>\n",
       "    </tr>\n",
       "    <tr>\n",
       "      <th>31</th>\n",
       "      <td>New Jersey</td>\n",
       "      <td>31%</td>\n",
       "      <td>23.7</td>\n",
       "    </tr>\n",
       "    <tr>\n",
       "      <th>32</th>\n",
       "      <td>New Mexico</td>\n",
       "      <td>67%</td>\n",
       "      <td>19.4</td>\n",
       "    </tr>\n",
       "    <tr>\n",
       "      <th>33</th>\n",
       "      <td>New York</td>\n",
       "      <td>27%</td>\n",
       "      <td>24.5</td>\n",
       "    </tr>\n",
       "    <tr>\n",
       "      <th>34</th>\n",
       "      <td>North Carolina</td>\n",
       "      <td>100%</td>\n",
       "      <td>19.1</td>\n",
       "    </tr>\n",
       "    <tr>\n",
       "      <th>35</th>\n",
       "      <td>North Dakota</td>\n",
       "      <td>98%</td>\n",
       "      <td>20.3</td>\n",
       "    </tr>\n",
       "    <tr>\n",
       "      <th>36</th>\n",
       "      <td>Ohio</td>\n",
       "      <td>100%</td>\n",
       "      <td>20.3</td>\n",
       "    </tr>\n",
       "    <tr>\n",
       "      <th>37</th>\n",
       "      <td>Oklahoma</td>\n",
       "      <td>100%</td>\n",
       "      <td>19.3</td>\n",
       "    </tr>\n",
       "    <tr>\n",
       "      <th>38</th>\n",
       "      <td>Oregon</td>\n",
       "      <td>42%</td>\n",
       "      <td>21.3</td>\n",
       "    </tr>\n",
       "    <tr>\n",
       "      <th>39</th>\n",
       "      <td>Pennsylvania</td>\n",
       "      <td>20%</td>\n",
       "      <td>23.5</td>\n",
       "    </tr>\n",
       "    <tr>\n",
       "      <th>40</th>\n",
       "      <td>Rhode Island</td>\n",
       "      <td>15%</td>\n",
       "      <td>24.2</td>\n",
       "    </tr>\n",
       "    <tr>\n",
       "      <th>41</th>\n",
       "      <td>South Carolina</td>\n",
       "      <td>100%</td>\n",
       "      <td>18.3</td>\n",
       "    </tr>\n",
       "    <tr>\n",
       "      <th>42</th>\n",
       "      <td>South Dakota</td>\n",
       "      <td>77%</td>\n",
       "      <td>21.9</td>\n",
       "    </tr>\n",
       "    <tr>\n",
       "      <th>43</th>\n",
       "      <td>Tennessee</td>\n",
       "      <td>100%</td>\n",
       "      <td>19.6</td>\n",
       "    </tr>\n",
       "    <tr>\n",
       "      <th>44</th>\n",
       "      <td>Texas</td>\n",
       "      <td>45%</td>\n",
       "      <td>20.7</td>\n",
       "    </tr>\n",
       "    <tr>\n",
       "      <th>45</th>\n",
       "      <td>Utah</td>\n",
       "      <td>100%</td>\n",
       "      <td>20.4</td>\n",
       "    </tr>\n",
       "    <tr>\n",
       "      <th>46</th>\n",
       "      <td>Vermont</td>\n",
       "      <td>24%</td>\n",
       "      <td>24.1</td>\n",
       "    </tr>\n",
       "    <tr>\n",
       "      <th>47</th>\n",
       "      <td>Virginia</td>\n",
       "      <td>24%</td>\n",
       "      <td>23.9</td>\n",
       "    </tr>\n",
       "    <tr>\n",
       "      <th>48</th>\n",
       "      <td>Washington</td>\n",
       "      <td>24%</td>\n",
       "      <td>22.2</td>\n",
       "    </tr>\n",
       "    <tr>\n",
       "      <th>49</th>\n",
       "      <td>West Virginia</td>\n",
       "      <td>65%</td>\n",
       "      <td>20.3</td>\n",
       "    </tr>\n",
       "    <tr>\n",
       "      <th>50</th>\n",
       "      <td>Wisconsin</td>\n",
       "      <td>100%</td>\n",
       "      <td>20.5</td>\n",
       "    </tr>\n",
       "    <tr>\n",
       "      <th>51</th>\n",
       "      <td>Wyoming</td>\n",
       "      <td>100%</td>\n",
       "      <td>20.0</td>\n",
       "    </tr>\n",
       "  </tbody>\n",
       "</table>\n",
       "</div>"
      ],
      "text/plain": [
       "                   State Participation  Composite\n",
       "0                Alabama          100%       19.1\n",
       "1                 Alaska           33%       20.8\n",
       "2                Arizona           66%       19.2\n",
       "3               Arkansas          100%       19.4\n",
       "4             California           27%       22.7\n",
       "5               Colorado           30%       23.9\n",
       "6            Connecticut           26%       25.6\n",
       "7               Delaware           17%       23.8\n",
       "8   District of columbia           32%       23.6\n",
       "9                Florida           66%       19.9\n",
       "10               Georgia           53%       21.4\n",
       "11                Hawaii           89%       18.9\n",
       "12                 Idaho           36%       22.3\n",
       "13              Illinois           43%       23.9\n",
       "14               Indiana           32%       22.5\n",
       "15                  Iowa           68%       21.8\n",
       "16                Kansas           71%       21.6\n",
       "17              Kentucky          100%       20.2\n",
       "18             Louisiana          100%       19.2\n",
       "19                 Maine            7%       24.0\n",
       "21              Maryland           31%       22.5\n",
       "22         Massachusetts           25%       25.5\n",
       "23              Michigan           22%       24.2\n",
       "24             Minnesota           99%       21.3\n",
       "25           Mississippi          100%       18.6\n",
       "26              Missouri          100%       20.0\n",
       "27               Montana          100%       20.0\n",
       "28              Nebraska          100%       20.1\n",
       "29                Nevada          100%       17.7\n",
       "30         New Hampshire           16%       25.1\n",
       "31            New Jersey           31%       23.7\n",
       "32            New Mexico           67%       19.4\n",
       "33              New York           27%       24.5\n",
       "34        North Carolina          100%       19.1\n",
       "35          North Dakota           98%       20.3\n",
       "36                  Ohio          100%       20.3\n",
       "37              Oklahoma          100%       19.3\n",
       "38                Oregon           42%       21.3\n",
       "39          Pennsylvania           20%       23.5\n",
       "40          Rhode Island           15%       24.2\n",
       "41        South Carolina          100%       18.3\n",
       "42          South Dakota           77%       21.9\n",
       "43             Tennessee          100%       19.6\n",
       "44                 Texas           45%       20.7\n",
       "45                  Utah          100%       20.4\n",
       "46               Vermont           24%       24.1\n",
       "47              Virginia           24%       23.9\n",
       "48            Washington           24%       22.2\n",
       "49         West Virginia           65%       20.3\n",
       "50             Wisconsin          100%       20.5\n",
       "51               Wyoming          100%       20.0"
      ]
     },
     "execution_count": 48,
     "metadata": {},
     "output_type": "execute_result"
    }
   ],
   "source": [
    "act_2018"
   ]
  },
  {
   "cell_type": "code",
   "execution_count": 49,
   "metadata": {},
   "outputs": [],
   "source": [
    "#Converting 'Participation' column into type int\n",
    "act_2018['Participation'] = pd.to_numeric(act_2018['Participation'].str.replace('%', ''))"
   ]
  },
  {
   "cell_type": "code",
   "execution_count": 50,
   "metadata": {},
   "outputs": [],
   "source": [
    "#Giving the columns more meaningful names\n",
    "act2018_column_dict = {'State': 'state',\n",
    "                      'Participation': 'act2018_participation',                   \n",
    "                      'Composite': 'act2018_composite'}\n",
    "\n",
    "act_2018.rename(columns=act2018_column_dict, inplace=True)"
   ]
  },
  {
   "cell_type": "code",
   "execution_count": 51,
   "metadata": {},
   "outputs": [],
   "source": [
    "#Combining the 2018 ACT & SAT into one dataframe\n",
    "combined_2018 = pd.merge(left = sat_2018,\n",
    "                           right = act_2018,\n",
    "                           on = 'state')"
   ]
  },
  {
   "cell_type": "code",
   "execution_count": 52,
   "metadata": {},
   "outputs": [
    {
     "data": {
      "text/html": [
       "<div>\n",
       "<style scoped>\n",
       "    .dataframe tbody tr th:only-of-type {\n",
       "        vertical-align: middle;\n",
       "    }\n",
       "\n",
       "    .dataframe tbody tr th {\n",
       "        vertical-align: top;\n",
       "    }\n",
       "\n",
       "    .dataframe thead th {\n",
       "        text-align: right;\n",
       "    }\n",
       "</style>\n",
       "<table border=\"1\" class=\"dataframe\">\n",
       "  <thead>\n",
       "    <tr style=\"text-align: right;\">\n",
       "      <th></th>\n",
       "      <th>state</th>\n",
       "      <th>sat2018_participation</th>\n",
       "      <th>sat2018_total</th>\n",
       "      <th>act2018_participation</th>\n",
       "      <th>act2018_composite</th>\n",
       "    </tr>\n",
       "  </thead>\n",
       "  <tbody>\n",
       "    <tr>\n",
       "      <th>0</th>\n",
       "      <td>Alabama</td>\n",
       "      <td>6</td>\n",
       "      <td>1166.0</td>\n",
       "      <td>100</td>\n",
       "      <td>19.1</td>\n",
       "    </tr>\n",
       "    <tr>\n",
       "      <th>1</th>\n",
       "      <td>Alaska</td>\n",
       "      <td>43</td>\n",
       "      <td>1106.0</td>\n",
       "      <td>33</td>\n",
       "      <td>20.8</td>\n",
       "    </tr>\n",
       "    <tr>\n",
       "      <th>2</th>\n",
       "      <td>Arizona</td>\n",
       "      <td>29</td>\n",
       "      <td>1149.0</td>\n",
       "      <td>66</td>\n",
       "      <td>19.2</td>\n",
       "    </tr>\n",
       "    <tr>\n",
       "      <th>3</th>\n",
       "      <td>Arkansas</td>\n",
       "      <td>5</td>\n",
       "      <td>1169.0</td>\n",
       "      <td>100</td>\n",
       "      <td>19.4</td>\n",
       "    </tr>\n",
       "    <tr>\n",
       "      <th>4</th>\n",
       "      <td>California</td>\n",
       "      <td>60</td>\n",
       "      <td>1076.0</td>\n",
       "      <td>27</td>\n",
       "      <td>22.7</td>\n",
       "    </tr>\n",
       "    <tr>\n",
       "      <th>5</th>\n",
       "      <td>Colorado</td>\n",
       "      <td>100</td>\n",
       "      <td>1025.0</td>\n",
       "      <td>30</td>\n",
       "      <td>23.9</td>\n",
       "    </tr>\n",
       "    <tr>\n",
       "      <th>6</th>\n",
       "      <td>Connecticut</td>\n",
       "      <td>100</td>\n",
       "      <td>1053.0</td>\n",
       "      <td>26</td>\n",
       "      <td>25.6</td>\n",
       "    </tr>\n",
       "    <tr>\n",
       "      <th>7</th>\n",
       "      <td>Delaware</td>\n",
       "      <td>100</td>\n",
       "      <td>998.0</td>\n",
       "      <td>17</td>\n",
       "      <td>23.8</td>\n",
       "    </tr>\n",
       "    <tr>\n",
       "      <th>8</th>\n",
       "      <td>Florida</td>\n",
       "      <td>56</td>\n",
       "      <td>1099.0</td>\n",
       "      <td>66</td>\n",
       "      <td>19.9</td>\n",
       "    </tr>\n",
       "    <tr>\n",
       "      <th>9</th>\n",
       "      <td>Georgia</td>\n",
       "      <td>70</td>\n",
       "      <td>1064.0</td>\n",
       "      <td>53</td>\n",
       "      <td>21.4</td>\n",
       "    </tr>\n",
       "    <tr>\n",
       "      <th>10</th>\n",
       "      <td>Hawaii</td>\n",
       "      <td>56</td>\n",
       "      <td>1010.0</td>\n",
       "      <td>89</td>\n",
       "      <td>18.9</td>\n",
       "    </tr>\n",
       "    <tr>\n",
       "      <th>11</th>\n",
       "      <td>Idaho</td>\n",
       "      <td>100</td>\n",
       "      <td>1001.0</td>\n",
       "      <td>36</td>\n",
       "      <td>22.3</td>\n",
       "    </tr>\n",
       "    <tr>\n",
       "      <th>12</th>\n",
       "      <td>Illinois</td>\n",
       "      <td>99</td>\n",
       "      <td>1019.0</td>\n",
       "      <td>43</td>\n",
       "      <td>23.9</td>\n",
       "    </tr>\n",
       "    <tr>\n",
       "      <th>13</th>\n",
       "      <td>Indiana</td>\n",
       "      <td>63</td>\n",
       "      <td>1074.0</td>\n",
       "      <td>32</td>\n",
       "      <td>22.5</td>\n",
       "    </tr>\n",
       "    <tr>\n",
       "      <th>14</th>\n",
       "      <td>Iowa</td>\n",
       "      <td>3</td>\n",
       "      <td>1265.0</td>\n",
       "      <td>68</td>\n",
       "      <td>21.8</td>\n",
       "    </tr>\n",
       "    <tr>\n",
       "      <th>15</th>\n",
       "      <td>Kansas</td>\n",
       "      <td>4</td>\n",
       "      <td>1265.0</td>\n",
       "      <td>71</td>\n",
       "      <td>21.6</td>\n",
       "    </tr>\n",
       "    <tr>\n",
       "      <th>16</th>\n",
       "      <td>Kentucky</td>\n",
       "      <td>4</td>\n",
       "      <td>1248.0</td>\n",
       "      <td>100</td>\n",
       "      <td>20.2</td>\n",
       "    </tr>\n",
       "    <tr>\n",
       "      <th>17</th>\n",
       "      <td>Louisiana</td>\n",
       "      <td>4</td>\n",
       "      <td>1210.0</td>\n",
       "      <td>100</td>\n",
       "      <td>19.2</td>\n",
       "    </tr>\n",
       "    <tr>\n",
       "      <th>18</th>\n",
       "      <td>Maine</td>\n",
       "      <td>99</td>\n",
       "      <td>1013.0</td>\n",
       "      <td>7</td>\n",
       "      <td>24.0</td>\n",
       "    </tr>\n",
       "    <tr>\n",
       "      <th>19</th>\n",
       "      <td>Maryland</td>\n",
       "      <td>76</td>\n",
       "      <td>1080.0</td>\n",
       "      <td>31</td>\n",
       "      <td>22.5</td>\n",
       "    </tr>\n",
       "    <tr>\n",
       "      <th>20</th>\n",
       "      <td>Massachusetts</td>\n",
       "      <td>80</td>\n",
       "      <td>1125.0</td>\n",
       "      <td>25</td>\n",
       "      <td>25.5</td>\n",
       "    </tr>\n",
       "    <tr>\n",
       "      <th>21</th>\n",
       "      <td>Michigan</td>\n",
       "      <td>100</td>\n",
       "      <td>1011.0</td>\n",
       "      <td>22</td>\n",
       "      <td>24.2</td>\n",
       "    </tr>\n",
       "    <tr>\n",
       "      <th>22</th>\n",
       "      <td>Minnesota</td>\n",
       "      <td>4</td>\n",
       "      <td>1298.0</td>\n",
       "      <td>99</td>\n",
       "      <td>21.3</td>\n",
       "    </tr>\n",
       "    <tr>\n",
       "      <th>23</th>\n",
       "      <td>Mississippi</td>\n",
       "      <td>3</td>\n",
       "      <td>1236.0</td>\n",
       "      <td>100</td>\n",
       "      <td>18.6</td>\n",
       "    </tr>\n",
       "    <tr>\n",
       "      <th>24</th>\n",
       "      <td>Missouri</td>\n",
       "      <td>4</td>\n",
       "      <td>1262.0</td>\n",
       "      <td>100</td>\n",
       "      <td>20.0</td>\n",
       "    </tr>\n",
       "    <tr>\n",
       "      <th>25</th>\n",
       "      <td>Montana</td>\n",
       "      <td>10</td>\n",
       "      <td>1198.0</td>\n",
       "      <td>100</td>\n",
       "      <td>20.0</td>\n",
       "    </tr>\n",
       "    <tr>\n",
       "      <th>26</th>\n",
       "      <td>Nebraska</td>\n",
       "      <td>3</td>\n",
       "      <td>1252.0</td>\n",
       "      <td>100</td>\n",
       "      <td>20.1</td>\n",
       "    </tr>\n",
       "    <tr>\n",
       "      <th>27</th>\n",
       "      <td>Nevada</td>\n",
       "      <td>23</td>\n",
       "      <td>1140.0</td>\n",
       "      <td>100</td>\n",
       "      <td>17.7</td>\n",
       "    </tr>\n",
       "    <tr>\n",
       "      <th>28</th>\n",
       "      <td>New Hampshire</td>\n",
       "      <td>96</td>\n",
       "      <td>1063.0</td>\n",
       "      <td>16</td>\n",
       "      <td>25.1</td>\n",
       "    </tr>\n",
       "    <tr>\n",
       "      <th>29</th>\n",
       "      <td>New Jersey</td>\n",
       "      <td>82</td>\n",
       "      <td>1094.0</td>\n",
       "      <td>31</td>\n",
       "      <td>23.7</td>\n",
       "    </tr>\n",
       "    <tr>\n",
       "      <th>30</th>\n",
       "      <td>New Mexico</td>\n",
       "      <td>16</td>\n",
       "      <td>1093.0</td>\n",
       "      <td>67</td>\n",
       "      <td>19.4</td>\n",
       "    </tr>\n",
       "    <tr>\n",
       "      <th>31</th>\n",
       "      <td>New York</td>\n",
       "      <td>79</td>\n",
       "      <td>1068.0</td>\n",
       "      <td>27</td>\n",
       "      <td>24.5</td>\n",
       "    </tr>\n",
       "    <tr>\n",
       "      <th>32</th>\n",
       "      <td>North Carolina</td>\n",
       "      <td>52</td>\n",
       "      <td>1098.0</td>\n",
       "      <td>100</td>\n",
       "      <td>19.1</td>\n",
       "    </tr>\n",
       "    <tr>\n",
       "      <th>33</th>\n",
       "      <td>North Dakota</td>\n",
       "      <td>2</td>\n",
       "      <td>1283.0</td>\n",
       "      <td>98</td>\n",
       "      <td>20.3</td>\n",
       "    </tr>\n",
       "    <tr>\n",
       "      <th>34</th>\n",
       "      <td>Oklahoma</td>\n",
       "      <td>8</td>\n",
       "      <td>1062.0</td>\n",
       "      <td>100</td>\n",
       "      <td>19.3</td>\n",
       "    </tr>\n",
       "    <tr>\n",
       "      <th>35</th>\n",
       "      <td>Ohio</td>\n",
       "      <td>18</td>\n",
       "      <td>1099.0</td>\n",
       "      <td>100</td>\n",
       "      <td>20.3</td>\n",
       "    </tr>\n",
       "    <tr>\n",
       "      <th>36</th>\n",
       "      <td>Oregon</td>\n",
       "      <td>48</td>\n",
       "      <td>1117.0</td>\n",
       "      <td>42</td>\n",
       "      <td>21.3</td>\n",
       "    </tr>\n",
       "    <tr>\n",
       "      <th>37</th>\n",
       "      <td>Pennsylvania</td>\n",
       "      <td>70</td>\n",
       "      <td>1086.0</td>\n",
       "      <td>20</td>\n",
       "      <td>23.5</td>\n",
       "    </tr>\n",
       "    <tr>\n",
       "      <th>38</th>\n",
       "      <td>Rhode Island</td>\n",
       "      <td>97</td>\n",
       "      <td>1018.0</td>\n",
       "      <td>15</td>\n",
       "      <td>24.2</td>\n",
       "    </tr>\n",
       "    <tr>\n",
       "      <th>39</th>\n",
       "      <td>South Carolina</td>\n",
       "      <td>55</td>\n",
       "      <td>1070.0</td>\n",
       "      <td>100</td>\n",
       "      <td>18.3</td>\n",
       "    </tr>\n",
       "    <tr>\n",
       "      <th>40</th>\n",
       "      <td>South Dakota</td>\n",
       "      <td>3</td>\n",
       "      <td>1240.0</td>\n",
       "      <td>77</td>\n",
       "      <td>21.9</td>\n",
       "    </tr>\n",
       "    <tr>\n",
       "      <th>41</th>\n",
       "      <td>Tennessee</td>\n",
       "      <td>6</td>\n",
       "      <td>1231.0</td>\n",
       "      <td>100</td>\n",
       "      <td>19.6</td>\n",
       "    </tr>\n",
       "    <tr>\n",
       "      <th>42</th>\n",
       "      <td>Texas</td>\n",
       "      <td>66</td>\n",
       "      <td>1032.0</td>\n",
       "      <td>45</td>\n",
       "      <td>20.7</td>\n",
       "    </tr>\n",
       "    <tr>\n",
       "      <th>43</th>\n",
       "      <td>Utah</td>\n",
       "      <td>4</td>\n",
       "      <td>1010.0</td>\n",
       "      <td>100</td>\n",
       "      <td>20.4</td>\n",
       "    </tr>\n",
       "    <tr>\n",
       "      <th>44</th>\n",
       "      <td>Vermont</td>\n",
       "      <td>64</td>\n",
       "      <td>1120.0</td>\n",
       "      <td>24</td>\n",
       "      <td>24.1</td>\n",
       "    </tr>\n",
       "    <tr>\n",
       "      <th>45</th>\n",
       "      <td>Virginia</td>\n",
       "      <td>68</td>\n",
       "      <td>1117.0</td>\n",
       "      <td>24</td>\n",
       "      <td>23.9</td>\n",
       "    </tr>\n",
       "    <tr>\n",
       "      <th>46</th>\n",
       "      <td>Washington</td>\n",
       "      <td>69</td>\n",
       "      <td>1081.0</td>\n",
       "      <td>24</td>\n",
       "      <td>22.2</td>\n",
       "    </tr>\n",
       "    <tr>\n",
       "      <th>47</th>\n",
       "      <td>West Virginia</td>\n",
       "      <td>28</td>\n",
       "      <td>999.0</td>\n",
       "      <td>65</td>\n",
       "      <td>20.3</td>\n",
       "    </tr>\n",
       "    <tr>\n",
       "      <th>48</th>\n",
       "      <td>Wisconsin</td>\n",
       "      <td>3</td>\n",
       "      <td>1294.0</td>\n",
       "      <td>100</td>\n",
       "      <td>20.5</td>\n",
       "    </tr>\n",
       "    <tr>\n",
       "      <th>49</th>\n",
       "      <td>Wyoming</td>\n",
       "      <td>3</td>\n",
       "      <td>1257.0</td>\n",
       "      <td>100</td>\n",
       "      <td>20.0</td>\n",
       "    </tr>\n",
       "  </tbody>\n",
       "</table>\n",
       "</div>"
      ],
      "text/plain": [
       "             state  sat2018_participation  sat2018_total  \\\n",
       "0          Alabama                      6         1166.0   \n",
       "1           Alaska                     43         1106.0   \n",
       "2          Arizona                     29         1149.0   \n",
       "3         Arkansas                      5         1169.0   \n",
       "4       California                     60         1076.0   \n",
       "5         Colorado                    100         1025.0   \n",
       "6      Connecticut                    100         1053.0   \n",
       "7         Delaware                    100          998.0   \n",
       "8          Florida                     56         1099.0   \n",
       "9          Georgia                     70         1064.0   \n",
       "10          Hawaii                     56         1010.0   \n",
       "11           Idaho                    100         1001.0   \n",
       "12        Illinois                     99         1019.0   \n",
       "13         Indiana                     63         1074.0   \n",
       "14            Iowa                      3         1265.0   \n",
       "15          Kansas                      4         1265.0   \n",
       "16        Kentucky                      4         1248.0   \n",
       "17       Louisiana                      4         1210.0   \n",
       "18           Maine                     99         1013.0   \n",
       "19        Maryland                     76         1080.0   \n",
       "20   Massachusetts                     80         1125.0   \n",
       "21        Michigan                    100         1011.0   \n",
       "22       Minnesota                      4         1298.0   \n",
       "23     Mississippi                      3         1236.0   \n",
       "24        Missouri                      4         1262.0   \n",
       "25         Montana                     10         1198.0   \n",
       "26        Nebraska                      3         1252.0   \n",
       "27          Nevada                     23         1140.0   \n",
       "28   New Hampshire                     96         1063.0   \n",
       "29      New Jersey                     82         1094.0   \n",
       "30      New Mexico                     16         1093.0   \n",
       "31        New York                     79         1068.0   \n",
       "32  North Carolina                     52         1098.0   \n",
       "33    North Dakota                      2         1283.0   \n",
       "34        Oklahoma                      8         1062.0   \n",
       "35            Ohio                     18         1099.0   \n",
       "36          Oregon                     48         1117.0   \n",
       "37    Pennsylvania                     70         1086.0   \n",
       "38    Rhode Island                     97         1018.0   \n",
       "39  South Carolina                     55         1070.0   \n",
       "40    South Dakota                      3         1240.0   \n",
       "41       Tennessee                      6         1231.0   \n",
       "42           Texas                     66         1032.0   \n",
       "43            Utah                      4         1010.0   \n",
       "44         Vermont                     64         1120.0   \n",
       "45        Virginia                     68         1117.0   \n",
       "46      Washington                     69         1081.0   \n",
       "47   West Virginia                     28          999.0   \n",
       "48       Wisconsin                      3         1294.0   \n",
       "49         Wyoming                      3         1257.0   \n",
       "\n",
       "    act2018_participation  act2018_composite  \n",
       "0                     100               19.1  \n",
       "1                      33               20.8  \n",
       "2                      66               19.2  \n",
       "3                     100               19.4  \n",
       "4                      27               22.7  \n",
       "5                      30               23.9  \n",
       "6                      26               25.6  \n",
       "7                      17               23.8  \n",
       "8                      66               19.9  \n",
       "9                      53               21.4  \n",
       "10                     89               18.9  \n",
       "11                     36               22.3  \n",
       "12                     43               23.9  \n",
       "13                     32               22.5  \n",
       "14                     68               21.8  \n",
       "15                     71               21.6  \n",
       "16                    100               20.2  \n",
       "17                    100               19.2  \n",
       "18                      7               24.0  \n",
       "19                     31               22.5  \n",
       "20                     25               25.5  \n",
       "21                     22               24.2  \n",
       "22                     99               21.3  \n",
       "23                    100               18.6  \n",
       "24                    100               20.0  \n",
       "25                    100               20.0  \n",
       "26                    100               20.1  \n",
       "27                    100               17.7  \n",
       "28                     16               25.1  \n",
       "29                     31               23.7  \n",
       "30                     67               19.4  \n",
       "31                     27               24.5  \n",
       "32                    100               19.1  \n",
       "33                     98               20.3  \n",
       "34                    100               19.3  \n",
       "35                    100               20.3  \n",
       "36                     42               21.3  \n",
       "37                     20               23.5  \n",
       "38                     15               24.2  \n",
       "39                    100               18.3  \n",
       "40                     77               21.9  \n",
       "41                    100               19.6  \n",
       "42                     45               20.7  \n",
       "43                    100               20.4  \n",
       "44                     24               24.1  \n",
       "45                     24               23.9  \n",
       "46                     24               22.2  \n",
       "47                     65               20.3  \n",
       "48                    100               20.5  \n",
       "49                    100               20.0  "
      ]
     },
     "execution_count": 52,
     "metadata": {},
     "output_type": "execute_result"
    }
   ],
   "source": [
    "combined_2018"
   ]
  },
  {
   "cell_type": "code",
   "execution_count": 53,
   "metadata": {},
   "outputs": [],
   "source": [
    "#Saving new dataframe as csv \n",
    "combined_2018.to_csv('combined_2018.csv')"
   ]
  },
  {
   "cell_type": "markdown",
   "metadata": {},
   "source": [
    "#### Combine your 2017 and 2018 data into a single dataframe\n",
    "Joining on state names should work, assuming you formatted all your state names identically. Make sure none of your columns (other than state) have identical names. Do yourself a favor and decide if you're encoding participation rates as floats or integers and standardize this across your datasets.\n",
    "\n",
    "Save the contents of this merged dataframe as `final.csv`.\n",
    "\n",
    "**Use this combined dataframe for the remainder of the project**."
   ]
  },
  {
   "cell_type": "code",
   "execution_count": 54,
   "metadata": {},
   "outputs": [],
   "source": [
    "final_df = pd.merge(left = combined_2017,\n",
    "                           right = combined_2018,\n",
    "                           on = 'state')"
   ]
  },
  {
   "cell_type": "code",
   "execution_count": 55,
   "metadata": {},
   "outputs": [],
   "source": [
    "final_df.to_csv('final.csv')"
   ]
  },
  {
   "cell_type": "markdown",
   "metadata": {},
   "source": [
    "## Exploratory Data Analysis\n",
    "\n",
    "\n",
    "### Summary Statistics\n",
    "Transpose the output of pandas `describe` method to create a quick overview of each numeric feature."
   ]
  },
  {
   "cell_type": "code",
   "execution_count": 56,
   "metadata": {},
   "outputs": [
    {
     "data": {
      "text/html": [
       "<div>\n",
       "<style scoped>\n",
       "    .dataframe tbody tr th:only-of-type {\n",
       "        vertical-align: middle;\n",
       "    }\n",
       "\n",
       "    .dataframe tbody tr th {\n",
       "        vertical-align: top;\n",
       "    }\n",
       "\n",
       "    .dataframe thead th {\n",
       "        text-align: right;\n",
       "    }\n",
       "</style>\n",
       "<table border=\"1\" class=\"dataframe\">\n",
       "  <thead>\n",
       "    <tr style=\"text-align: right;\">\n",
       "      <th></th>\n",
       "      <th>sat2017_participation</th>\n",
       "      <th>sat2017_readingwriting</th>\n",
       "      <th>sat2017_math</th>\n",
       "      <th>sat2017_total</th>\n",
       "      <th>act2017_participation</th>\n",
       "      <th>act2017_english</th>\n",
       "      <th>act2017_math</th>\n",
       "      <th>act2017_reading</th>\n",
       "      <th>act2017_science</th>\n",
       "      <th>act2017_composite</th>\n",
       "      <th>sat2018_participation</th>\n",
       "      <th>sat2018_total</th>\n",
       "      <th>act2018_participation</th>\n",
       "      <th>act2018_composite</th>\n",
       "    </tr>\n",
       "  </thead>\n",
       "  <tbody>\n",
       "    <tr>\n",
       "      <th>count</th>\n",
       "      <td>50.000000</td>\n",
       "      <td>50.000000</td>\n",
       "      <td>50.000000</td>\n",
       "      <td>50.000000</td>\n",
       "      <td>50.000000</td>\n",
       "      <td>50.000000</td>\n",
       "      <td>50.00000</td>\n",
       "      <td>50.000000</td>\n",
       "      <td>50.000000</td>\n",
       "      <td>50.000000</td>\n",
       "      <td>50.000000</td>\n",
       "      <td>50.000000</td>\n",
       "      <td>50.000000</td>\n",
       "      <td>50.000000</td>\n",
       "    </tr>\n",
       "    <tr>\n",
       "      <th>mean</th>\n",
       "      <td>38.600000</td>\n",
       "      <td>570.860000</td>\n",
       "      <td>549.220000</td>\n",
       "      <td>1129.620000</td>\n",
       "      <td>65.920000</td>\n",
       "      <td>20.862000</td>\n",
       "      <td>21.13600</td>\n",
       "      <td>21.956000</td>\n",
       "      <td>20.992000</td>\n",
       "      <td>21.466000</td>\n",
       "      <td>44.820000</td>\n",
       "      <td>1122.880000</td>\n",
       "      <td>62.320000</td>\n",
       "      <td>21.454000</td>\n",
       "    </tr>\n",
       "    <tr>\n",
       "      <th>std</th>\n",
       "      <td>34.560211</td>\n",
       "      <td>44.385146</td>\n",
       "      <td>84.998269</td>\n",
       "      <td>89.913085</td>\n",
       "      <td>32.110676</td>\n",
       "      <td>2.324307</td>\n",
       "      <td>1.97399</td>\n",
       "      <td>2.046317</td>\n",
       "      <td>3.195139</td>\n",
       "      <td>2.004241</td>\n",
       "      <td>37.097604</td>\n",
       "      <td>92.845634</td>\n",
       "      <td>34.114118</td>\n",
       "      <td>2.111312</td>\n",
       "    </tr>\n",
       "    <tr>\n",
       "      <th>min</th>\n",
       "      <td>2.000000</td>\n",
       "      <td>503.000000</td>\n",
       "      <td>52.000000</td>\n",
       "      <td>996.000000</td>\n",
       "      <td>8.000000</td>\n",
       "      <td>16.300000</td>\n",
       "      <td>18.00000</td>\n",
       "      <td>18.100000</td>\n",
       "      <td>2.300000</td>\n",
       "      <td>17.800000</td>\n",
       "      <td>2.000000</td>\n",
       "      <td>998.000000</td>\n",
       "      <td>7.000000</td>\n",
       "      <td>17.700000</td>\n",
       "    </tr>\n",
       "    <tr>\n",
       "      <th>25%</th>\n",
       "      <td>4.000000</td>\n",
       "      <td>535.250000</td>\n",
       "      <td>523.250000</td>\n",
       "      <td>1057.000000</td>\n",
       "      <td>31.000000</td>\n",
       "      <td>19.000000</td>\n",
       "      <td>19.40000</td>\n",
       "      <td>20.425000</td>\n",
       "      <td>19.900000</td>\n",
       "      <td>19.800000</td>\n",
       "      <td>4.250000</td>\n",
       "      <td>1062.250000</td>\n",
       "      <td>27.750000</td>\n",
       "      <td>19.925000</td>\n",
       "    </tr>\n",
       "    <tr>\n",
       "      <th>50%</th>\n",
       "      <td>34.000000</td>\n",
       "      <td>559.500000</td>\n",
       "      <td>549.500000</td>\n",
       "      <td>1107.500000</td>\n",
       "      <td>71.000000</td>\n",
       "      <td>20.550000</td>\n",
       "      <td>20.90000</td>\n",
       "      <td>21.700000</td>\n",
       "      <td>21.100000</td>\n",
       "      <td>21.400000</td>\n",
       "      <td>50.000000</td>\n",
       "      <td>1098.500000</td>\n",
       "      <td>66.000000</td>\n",
       "      <td>21.050000</td>\n",
       "    </tr>\n",
       "    <tr>\n",
       "      <th>75%</th>\n",
       "      <td>65.000000</td>\n",
       "      <td>613.500000</td>\n",
       "      <td>601.000000</td>\n",
       "      <td>1214.000000</td>\n",
       "      <td>100.000000</td>\n",
       "      <td>23.100000</td>\n",
       "      <td>23.00000</td>\n",
       "      <td>23.875000</td>\n",
       "      <td>22.275000</td>\n",
       "      <td>23.400000</td>\n",
       "      <td>74.500000</td>\n",
       "      <td>1207.000000</td>\n",
       "      <td>100.000000</td>\n",
       "      <td>23.650000</td>\n",
       "    </tr>\n",
       "    <tr>\n",
       "      <th>max</th>\n",
       "      <td>100.000000</td>\n",
       "      <td>644.000000</td>\n",
       "      <td>651.000000</td>\n",
       "      <td>1295.000000</td>\n",
       "      <td>100.000000</td>\n",
       "      <td>25.500000</td>\n",
       "      <td>25.30000</td>\n",
       "      <td>26.000000</td>\n",
       "      <td>24.900000</td>\n",
       "      <td>25.500000</td>\n",
       "      <td>100.000000</td>\n",
       "      <td>1298.000000</td>\n",
       "      <td>100.000000</td>\n",
       "      <td>25.600000</td>\n",
       "    </tr>\n",
       "  </tbody>\n",
       "</table>\n",
       "</div>"
      ],
      "text/plain": [
       "       sat2017_participation  sat2017_readingwriting  sat2017_math  \\\n",
       "count              50.000000               50.000000     50.000000   \n",
       "mean               38.600000              570.860000    549.220000   \n",
       "std                34.560211               44.385146     84.998269   \n",
       "min                 2.000000              503.000000     52.000000   \n",
       "25%                 4.000000              535.250000    523.250000   \n",
       "50%                34.000000              559.500000    549.500000   \n",
       "75%                65.000000              613.500000    601.000000   \n",
       "max               100.000000              644.000000    651.000000   \n",
       "\n",
       "       sat2017_total  act2017_participation  act2017_english  act2017_math  \\\n",
       "count      50.000000              50.000000        50.000000      50.00000   \n",
       "mean     1129.620000              65.920000        20.862000      21.13600   \n",
       "std        89.913085              32.110676         2.324307       1.97399   \n",
       "min       996.000000               8.000000        16.300000      18.00000   \n",
       "25%      1057.000000              31.000000        19.000000      19.40000   \n",
       "50%      1107.500000              71.000000        20.550000      20.90000   \n",
       "75%      1214.000000             100.000000        23.100000      23.00000   \n",
       "max      1295.000000             100.000000        25.500000      25.30000   \n",
       "\n",
       "       act2017_reading  act2017_science  act2017_composite  \\\n",
       "count        50.000000        50.000000          50.000000   \n",
       "mean         21.956000        20.992000          21.466000   \n",
       "std           2.046317         3.195139           2.004241   \n",
       "min          18.100000         2.300000          17.800000   \n",
       "25%          20.425000        19.900000          19.800000   \n",
       "50%          21.700000        21.100000          21.400000   \n",
       "75%          23.875000        22.275000          23.400000   \n",
       "max          26.000000        24.900000          25.500000   \n",
       "\n",
       "       sat2018_participation  sat2018_total  act2018_participation  \\\n",
       "count              50.000000      50.000000              50.000000   \n",
       "mean               44.820000    1122.880000              62.320000   \n",
       "std                37.097604      92.845634              34.114118   \n",
       "min                 2.000000     998.000000               7.000000   \n",
       "25%                 4.250000    1062.250000              27.750000   \n",
       "50%                50.000000    1098.500000              66.000000   \n",
       "75%                74.500000    1207.000000             100.000000   \n",
       "max               100.000000    1298.000000             100.000000   \n",
       "\n",
       "       act2018_composite  \n",
       "count          50.000000  \n",
       "mean           21.454000  \n",
       "std             2.111312  \n",
       "min            17.700000  \n",
       "25%            19.925000  \n",
       "50%            21.050000  \n",
       "75%            23.650000  \n",
       "max            25.600000  "
      ]
     },
     "execution_count": 56,
     "metadata": {},
     "output_type": "execute_result"
    }
   ],
   "source": [
    "final_df.describe()"
   ]
  },
  {
   "cell_type": "markdown",
   "metadata": {},
   "source": [
    "#### Manually calculate standard deviation\n",
    "\n",
    "$$\\sigma = \\sqrt{\\frac{1}{n}\\sum_{i=1}^n(x_i - \\mu)^2}$$\n",
    "\n",
    "- Write a function to calculate standard deviation using the formula above"
   ]
  },
  {
   "cell_type": "code",
   "execution_count": 57,
   "metadata": {},
   "outputs": [],
   "source": [
    "import math\n",
    "def stdev(series):\n",
    "    sumsqs = [] \n",
    "    for i in series:\n",
    "        ss = (i -(np.mean(series)))**2 \n",
    "        sumsqs.append(ss)\n",
    "    avgsumsqs= sum(sumsqs) / (len(sumsqs) - 1)  \n",
    "    stdev = math.sqrt(avgsumsqs) \n",
    "    return stdev"
   ]
  },
  {
   "cell_type": "markdown",
   "metadata": {},
   "source": [
    "- Use a **dictionary comprehension** to apply your standard deviation function to each numeric column in the dataframe.  **No loops**  \n",
    "- Assign the output to variable `sd` as a dictionary where: \n",
    "    - Each column name is now a key \n",
    "    - That standard deviation of the column is the value \n",
    "     \n",
    "*Example Output :* `{'ACT_Math': 120, 'ACT_Reading': 120, ...}`"
   ]
  },
  {
   "cell_type": "code",
   "execution_count": 58,
   "metadata": {
    "scrolled": false
   },
   "outputs": [
    {
     "data": {
      "text/plain": [
       "{'sat2017_participation': 34.56021069474701,\n",
       " 'sat2017_readingwriting': 44.38514643988229,\n",
       " 'sat2017_math': 84.99826888993513,\n",
       " 'sat2017_total': 89.91308501626924,\n",
       " 'act2017_participation': 32.110675953708636,\n",
       " 'act2017_english': 2.3243072261714137,\n",
       " 'act2017_math': 1.9739900543553606,\n",
       " 'act2017_reading': 2.0463167508716626,\n",
       " 'act2017_science': 3.1951391653125665,\n",
       " 'act2017_composite': 2.0042414209544193,\n",
       " 'sat2018_participation': 37.09760430132867,\n",
       " 'sat2018_total': 92.84563445167842,\n",
       " 'act2018_participation': 34.11411820968687,\n",
       " 'act2018_composite': 2.1113116147773816}"
      ]
     },
     "execution_count": 58,
     "metadata": {},
     "output_type": "execute_result"
    }
   ],
   "source": [
    "{key: (stdev(value)) for key, value in (final_df.select_dtypes(include=[np.number])).iteritems()}\n",
    "    "
   ]
  },
  {
   "cell_type": "markdown",
   "metadata": {},
   "source": [
    "Do your manually calculated standard deviations match up with the output from pandas `describe`? What about numpy's `std` method?"
   ]
  },
  {
   "cell_type": "markdown",
   "metadata": {},
   "source": [
    "They match the pd.describe() outputs, but not the np.std() outputs.\n",
    "https://stackoverflow.com/questions/24984178/different-std-in-pandas-vs-numpy"
   ]
  },
  {
   "cell_type": "markdown",
   "metadata": {},
   "source": [
    "#### Investigate trends in the data\n",
    "Using sorting and/or masking (along with the `.head` method to not print our entire dataframe), consider the following questions:\n",
    "\n",
    "- Which states have the highest and lowest participation rates for the:\n",
    "    - 2017 SAT?\n",
    "    - 2018 SAT?\n",
    "    - 2017 ACT?\n",
    "    - 2018 ACT?\n",
    "- Which states have the highest and lowest mean total/composite scores for the:\n",
    "    - 2017 SAT?\n",
    "    - 2018 SAT?\n",
    "    - 2017 ACT?\n",
    "    - 2018 ACT?\n",
    "- Do any states with 100% participation on a given test have a rate change year-to-year?\n",
    "- Do any states show have >50% participation on *both* tests either year?\n",
    "\n",
    "Based on what you've just observed, have you identified any states that you're especially interested in? **Make a note of these and state *why* you think they're interesting**.\n",
    "\n",
    "**You should comment on your findings at each step in a markdown cell below your code block**. Make sure you include at least one example of sorting your dataframe by a column, and one example of using boolean filtering (i.e., masking) to select a subset of the dataframe."
   ]
  },
  {
   "cell_type": "code",
   "execution_count": 59,
   "metadata": {},
   "outputs": [],
   "source": [
    "sat2017_highestpart = sat_2017['sat2017_participation'].sort_values(ascending=False)"
   ]
  },
  {
   "cell_type": "markdown",
   "metadata": {},
   "source": [
    "5 States with Highest Participation Rates, 2017 SAT:\n",
    "Connecticut: 100%\n",
    "Delaware: 100%\n",
    "DC : 100%\n",
    "Michigan: 100%\n",
    "New Hampshire: 29%"
   ]
  },
  {
   "cell_type": "code",
   "execution_count": 60,
   "metadata": {},
   "outputs": [],
   "source": [
    "sat2018_highestpart = sat_2018['sat2018_participation'].sort_values(ascending=False)"
   ]
  },
  {
   "cell_type": "markdown",
   "metadata": {},
   "source": [
    "5 States with Highest Participation Rates, 2018 SAT:\n",
    "Colorado: 100%\n",
    "Connecticut: 100%\n",
    "Delaware: 100%\n",
    "Idaho: 100%\n",
    "Michigan: 100%"
   ]
  },
  {
   "cell_type": "code",
   "execution_count": 61,
   "metadata": {},
   "outputs": [],
   "source": [
    "act2017_highestpart = act_2017['act2017_participation'].sort_values(ascending=False)"
   ]
  },
  {
   "cell_type": "markdown",
   "metadata": {},
   "source": [
    "5 States with Highest Participation Rates, 2017 ACT:\n",
    "Wyoming: 100%\n",
    "Arkansas: 100%\n",
    "Kentucky: 100%\n",
    "Oklahoma: 100%\n",
    "Colorado: 100%"
   ]
  },
  {
   "cell_type": "code",
   "execution_count": 62,
   "metadata": {},
   "outputs": [],
   "source": [
    "act2018_highestpart = act_2018['act2018_participation'].sort_values(ascending=False)"
   ]
  },
  {
   "cell_type": "markdown",
   "metadata": {},
   "source": [
    "5 States with Highest Participation Rates, 2018 ACT:\n",
    "WYoming: 100%\n",
    "Arkansas: 100%\n",
    "Kentucky: 100%\n",
    "Oklahoma: 100%\n",
    "Louisiana: 100%"
   ]
  },
  {
   "cell_type": "code",
   "execution_count": null,
   "metadata": {},
   "outputs": [],
   "source": [
    "#Lowest Participation"
   ]
  },
  {
   "cell_type": "code",
   "execution_count": 63,
   "metadata": {},
   "outputs": [
    {
     "data": {
      "text/html": [
       "<div>\n",
       "<style scoped>\n",
       "    .dataframe tbody tr th:only-of-type {\n",
       "        vertical-align: middle;\n",
       "    }\n",
       "\n",
       "    .dataframe tbody tr th {\n",
       "        vertical-align: top;\n",
       "    }\n",
       "\n",
       "    .dataframe thead th {\n",
       "        text-align: right;\n",
       "    }\n",
       "</style>\n",
       "<table border=\"1\" class=\"dataframe\">\n",
       "  <thead>\n",
       "    <tr style=\"text-align: right;\">\n",
       "      <th></th>\n",
       "      <th>state</th>\n",
       "      <th>sat2017_participation</th>\n",
       "      <th>sat2017_readingwriting</th>\n",
       "      <th>sat2017_math</th>\n",
       "      <th>sat2017_total</th>\n",
       "    </tr>\n",
       "  </thead>\n",
       "  <tbody>\n",
       "    <tr>\n",
       "      <th>15</th>\n",
       "      <td>Iowa</td>\n",
       "      <td>2</td>\n",
       "      <td>641</td>\n",
       "      <td>635</td>\n",
       "      <td>1275</td>\n",
       "    </tr>\n",
       "    <tr>\n",
       "      <th>24</th>\n",
       "      <td>Mississippi</td>\n",
       "      <td>2</td>\n",
       "      <td>634</td>\n",
       "      <td>607</td>\n",
       "      <td>1242</td>\n",
       "    </tr>\n",
       "    <tr>\n",
       "      <th>34</th>\n",
       "      <td>North Dakota</td>\n",
       "      <td>2</td>\n",
       "      <td>635</td>\n",
       "      <td>621</td>\n",
       "      <td>1256</td>\n",
       "    </tr>\n",
       "    <tr>\n",
       "      <th>3</th>\n",
       "      <td>Arkansas</td>\n",
       "      <td>3</td>\n",
       "      <td>614</td>\n",
       "      <td>594</td>\n",
       "      <td>1208</td>\n",
       "    </tr>\n",
       "    <tr>\n",
       "      <th>23</th>\n",
       "      <td>Minnesota</td>\n",
       "      <td>3</td>\n",
       "      <td>644</td>\n",
       "      <td>651</td>\n",
       "      <td>1295</td>\n",
       "    </tr>\n",
       "    <tr>\n",
       "      <th>25</th>\n",
       "      <td>Missouri</td>\n",
       "      <td>3</td>\n",
       "      <td>640</td>\n",
       "      <td>631</td>\n",
       "      <td>1271</td>\n",
       "    </tr>\n",
       "    <tr>\n",
       "      <th>27</th>\n",
       "      <td>Nebraska</td>\n",
       "      <td>3</td>\n",
       "      <td>629</td>\n",
       "      <td>625</td>\n",
       "      <td>1253</td>\n",
       "    </tr>\n",
       "    <tr>\n",
       "      <th>41</th>\n",
       "      <td>South Dakota</td>\n",
       "      <td>3</td>\n",
       "      <td>612</td>\n",
       "      <td>603</td>\n",
       "      <td>1216</td>\n",
       "    </tr>\n",
       "    <tr>\n",
       "      <th>44</th>\n",
       "      <td>Utah</td>\n",
       "      <td>3</td>\n",
       "      <td>624</td>\n",
       "      <td>614</td>\n",
       "      <td>1238</td>\n",
       "    </tr>\n",
       "    <tr>\n",
       "      <th>49</th>\n",
       "      <td>Wisconsin</td>\n",
       "      <td>3</td>\n",
       "      <td>642</td>\n",
       "      <td>649</td>\n",
       "      <td>1291</td>\n",
       "    </tr>\n",
       "    <tr>\n",
       "      <th>50</th>\n",
       "      <td>Wyoming</td>\n",
       "      <td>3</td>\n",
       "      <td>626</td>\n",
       "      <td>604</td>\n",
       "      <td>1230</td>\n",
       "    </tr>\n",
       "    <tr>\n",
       "      <th>16</th>\n",
       "      <td>Kansas</td>\n",
       "      <td>4</td>\n",
       "      <td>632</td>\n",
       "      <td>628</td>\n",
       "      <td>1260</td>\n",
       "    </tr>\n",
       "    <tr>\n",
       "      <th>17</th>\n",
       "      <td>Kentucky</td>\n",
       "      <td>4</td>\n",
       "      <td>631</td>\n",
       "      <td>616</td>\n",
       "      <td>1247</td>\n",
       "    </tr>\n",
       "    <tr>\n",
       "      <th>18</th>\n",
       "      <td>Louisiana</td>\n",
       "      <td>4</td>\n",
       "      <td>611</td>\n",
       "      <td>586</td>\n",
       "      <td>1198</td>\n",
       "    </tr>\n",
       "  </tbody>\n",
       "</table>\n",
       "</div>"
      ],
      "text/plain": [
       "           state  sat2017_participation  sat2017_readingwriting  sat2017_math  \\\n",
       "15          Iowa                      2                     641           635   \n",
       "24   Mississippi                      2                     634           607   \n",
       "34  North Dakota                      2                     635           621   \n",
       "3       Arkansas                      3                     614           594   \n",
       "23     Minnesota                      3                     644           651   \n",
       "25      Missouri                      3                     640           631   \n",
       "27      Nebraska                      3                     629           625   \n",
       "41  South Dakota                      3                     612           603   \n",
       "44          Utah                      3                     624           614   \n",
       "49     Wisconsin                      3                     642           649   \n",
       "50       Wyoming                      3                     626           604   \n",
       "16        Kansas                      4                     632           628   \n",
       "17      Kentucky                      4                     631           616   \n",
       "18     Louisiana                      4                     611           586   \n",
       "\n",
       "    sat2017_total  \n",
       "15           1275  \n",
       "24           1242  \n",
       "34           1256  \n",
       "3            1208  \n",
       "23           1295  \n",
       "25           1271  \n",
       "27           1253  \n",
       "41           1216  \n",
       "44           1238  \n",
       "49           1291  \n",
       "50           1230  \n",
       "16           1260  \n",
       "17           1247  \n",
       "18           1198  "
      ]
     },
     "execution_count": 63,
     "metadata": {},
     "output_type": "execute_result"
    }
   ],
   "source": [
    "mask = sat_2017['sat2017_participation']<5\n",
    "sat_2017[mask].sort_values('sat2017_participation')"
   ]
  },
  {
   "cell_type": "markdown",
   "metadata": {},
   "source": [
    "5 States with Lowest Participation Rates, 2017 SAT:\n",
    "North Dakota: 2%\n",
    "Mississippi: 2%\n",
    "Iowa, 2%\n",
    "Missouri: 3%\n",
    "Utah: 3%"
   ]
  },
  {
   "cell_type": "code",
   "execution_count": 64,
   "metadata": {},
   "outputs": [],
   "source": [
    "sat2018_lowestpart = sat_2018['sat2018_participation'].sort_values()"
   ]
  },
  {
   "cell_type": "markdown",
   "metadata": {},
   "source": [
    "5 States with Lowest Participation Rates, 2018 SAT:\n",
    "North Dakota: 2%\n",
    "Nebraska: 3%\n",
    "South Dakota: 3%\n",
    "Wisconsin: 3%\n",
    "Wyoming: 3%"
   ]
  },
  {
   "cell_type": "code",
   "execution_count": 65,
   "metadata": {},
   "outputs": [],
   "source": [
    "act2017_lowestpart = act_2017['act2017_participation'].sort_values()"
   ]
  },
  {
   "cell_type": "markdown",
   "metadata": {},
   "source": [
    "5 States with Lowest Participation Rates, 2017 ACT:\n",
    "Maine:8%\n",
    "New Hampshire: 18%\n",
    "Delaware: 18%\n",
    "Rhode Island: 21%\n",
    "Pennsylvania: 23%"
   ]
  },
  {
   "cell_type": "code",
   "execution_count": 66,
   "metadata": {},
   "outputs": [],
   "source": [
    "act2018_lowestpart = act_2018['act2018_participation'].sort_values()"
   ]
  },
  {
   "cell_type": "markdown",
   "metadata": {},
   "source": [
    "5 States with Lowest Participation Rates, 2018 ACT:\n",
    "Maine: 7%\n",
    "Rhode Island: 15%\n",
    "New Hampshire: 16%\n",
    "Delaware: 17%\n",
    "Pennsylvania: 20%"
   ]
  },
  {
   "cell_type": "code",
   "execution_count": null,
   "metadata": {},
   "outputs": [],
   "source": [
    "#Highest Mean Total"
   ]
  },
  {
   "cell_type": "code",
   "execution_count": 78,
   "metadata": {},
   "outputs": [
    {
     "data": {
      "text/plain": [
       "1165"
      ]
     },
     "execution_count": 78,
     "metadata": {},
     "output_type": "execute_result"
    }
   ],
   "source": [
    "sat2017_highesttotal= sat_2017['sat2017_total'].sort_values(ascending=False)[0]\n",
    "sat2017_highesttotal"
   ]
  },
  {
   "cell_type": "code",
   "execution_count": 79,
   "metadata": {},
   "outputs": [
    {
     "data": {
      "text/plain": [
       "1166.0"
      ]
     },
     "execution_count": 79,
     "metadata": {},
     "output_type": "execute_result"
    }
   ],
   "source": [
    "sat2018_highesttotal = sat_2018['sat2018_total'].sort_values(ascending=False)[0]\n",
    "sat2018_highesttotal"
   ]
  },
  {
   "cell_type": "code",
   "execution_count": null,
   "metadata": {},
   "outputs": [],
   "source": [
    "#Highest Mean Composite"
   ]
  },
  {
   "cell_type": "code",
   "execution_count": 85,
   "metadata": {},
   "outputs": [
    {
     "data": {
      "text/plain": [
       "30    25.5\n",
       "22    25.4\n",
       "7     25.2\n",
       "20    24.3\n",
       "9     24.2\n",
       "33    24.2\n",
       "23    24.1\n",
       "8     24.1\n",
       "40    24.0\n",
       "31    23.9\n",
       "47    23.8\n",
       "39    23.7\n",
       "21    23.6\n",
       "46    23.6\n",
       "5     22.8\n",
       "15    22.6\n",
       "13    22.3\n",
       "36    22.0\n",
       "16    21.9\n",
       "48    21.9\n",
       "42    21.8\n",
       "38    21.8\n",
       "17    21.7\n",
       "24    21.5\n",
       "28    21.4\n",
       "11    21.4\n",
       "14    21.4\n",
       "6     20.8\n",
       "44    20.7\n",
       "50    20.5\n",
       "49    20.4\n",
       "26    20.4\n",
       "27    20.3\n",
       "35    20.3\n",
       "45    20.3\n",
       "51    20.2\n",
       "18    20.0\n",
       "10    19.8\n",
       "43    19.8\n",
       "2     19.8\n",
       "32    19.7\n",
       "3     19.7\n",
       "19    19.5\n",
       "37    19.4\n",
       "4     19.4\n",
       "1     19.2\n",
       "34    19.1\n",
       "12    19.0\n",
       "41    18.7\n",
       "25    18.6\n",
       "29    17.8\n",
       "Name: act2017_composite, dtype: float64"
      ]
     },
     "execution_count": 85,
     "metadata": {},
     "output_type": "execute_result"
    }
   ],
   "source": [
    "act2017_highestcomposite = act_2017['act2017_composite'].sort_values(ascending=False)\n",
    "act2017_highestcomposite\n",
    "#25.5"
   ]
  },
  {
   "cell_type": "code",
   "execution_count": 87,
   "metadata": {},
   "outputs": [
    {
     "data": {
      "text/plain": [
       "19.1"
      ]
     },
     "execution_count": 87,
     "metadata": {},
     "output_type": "execute_result"
    }
   ],
   "source": [
    "act2018_highestcomposite = act_2018['act2018_composite'].sort_values(ascending=False)[0]\n",
    "act2018_highestcomposite"
   ]
  },
  {
   "cell_type": "code",
   "execution_count": null,
   "metadata": {},
   "outputs": [],
   "source": [
    "#Lowest Mean Total"
   ]
  },
  {
   "cell_type": "code",
   "execution_count": 88,
   "metadata": {},
   "outputs": [
    {
     "data": {
      "text/plain": [
       "1165"
      ]
     },
     "execution_count": 88,
     "metadata": {},
     "output_type": "execute_result"
    }
   ],
   "source": [
    "sat2017_lowesttotal = sat_2017['sat2017_total'].sort_values()[0]\n",
    "sat2017_lowesttotal"
   ]
  },
  {
   "cell_type": "code",
   "execution_count": 89,
   "metadata": {},
   "outputs": [],
   "source": [
    "sat2018_lowesttotal = sat_2018['sat2018_total'].sort_values()[0]"
   ]
  },
  {
   "cell_type": "code",
   "execution_count": null,
   "metadata": {},
   "outputs": [],
   "source": [
    "#Lowest Mean Composite"
   ]
  },
  {
   "cell_type": "code",
   "execution_count": 96,
   "metadata": {},
   "outputs": [
    {
     "data": {
      "text/plain": [
       "29    17.8\n",
       "25    18.6\n",
       "41    18.7\n",
       "12    19.0\n",
       "34    19.1\n",
       "1     19.2\n",
       "4     19.4\n",
       "37    19.4\n",
       "19    19.5\n",
       "3     19.7\n",
       "32    19.7\n",
       "2     19.8\n",
       "43    19.8\n",
       "10    19.8\n",
       "18    20.0\n",
       "51    20.2\n",
       "45    20.3\n",
       "35    20.3\n",
       "27    20.3\n",
       "26    20.4\n",
       "49    20.4\n",
       "50    20.5\n",
       "44    20.7\n",
       "6     20.8\n",
       "14    21.4\n",
       "11    21.4\n",
       "28    21.4\n",
       "24    21.5\n",
       "17    21.7\n",
       "38    21.8\n",
       "42    21.8\n",
       "48    21.9\n",
       "16    21.9\n",
       "36    22.0\n",
       "13    22.3\n",
       "15    22.6\n",
       "5     22.8\n",
       "46    23.6\n",
       "21    23.6\n",
       "39    23.7\n",
       "47    23.8\n",
       "31    23.9\n",
       "40    24.0\n",
       "8     24.1\n",
       "23    24.1\n",
       "33    24.2\n",
       "9     24.2\n",
       "20    24.3\n",
       "7     25.2\n",
       "22    25.4\n",
       "30    25.5\n",
       "Name: act2017_composite, dtype: float64"
      ]
     },
     "execution_count": 96,
     "metadata": {},
     "output_type": "execute_result"
    }
   ],
   "source": [
    "act2017_lowestcomposite = act_2017['act2017_composite'].sort_values()\n",
    "act2017_lowestcomposite\n",
    "#17.8"
   ]
  },
  {
   "cell_type": "code",
   "execution_count": 98,
   "metadata": {},
   "outputs": [
    {
     "data": {
      "text/plain": [
       "19.1"
      ]
     },
     "execution_count": 98,
     "metadata": {},
     "output_type": "execute_result"
    }
   ],
   "source": [
    "act2018_lowestcomposite = act_2018['act2018_composite'].sort_values()[0]\n",
    "act2018_lowestcomposite"
   ]
  },
  {
   "cell_type": "markdown",
   "metadata": {},
   "source": [
    "## Visualize the data\n",
    "\n",
    "There's not a magic bullet recommendation for the right number of plots to understand a given dataset, but visualizing your data is *always* a good idea. Not only does it allow you to quickly convey your findings (even if you have a non-technical audience), it will often reveal trends in your data that escaped you when you were looking only at numbers.\n",
    "\n",
    "Some recommendations on plotting:\n",
    "- Plots have titles\n",
    "- Plots have axis labels\n",
    "- Plots have appropriate tick labels\n",
    "- All text is legible in a plot\n",
    "- Plots demonstrate meaningful and valid relationships\n",
    "- Plots are interpreted to aid understanding\n",
    "\n",
    "There is such a thing as too many plots, and there are a *lot* of bad plots. You might make some! (But hopefully not with the guided prompts below)."
   ]
  },
  {
   "cell_type": "markdown",
   "metadata": {},
   "source": [
    "#### Use Seaborn's heatmap with pandas `.corr()` to visualize correlations between all numeric features\n",
    "\n",
    "Heatmaps are generally not appropriate for presentations, and should often be excluded from reports as they can be visually overwhelming. **However**, they can be extremely useful in identify relationships of potential interest (as well as identifying potential collinearity before modeling).\n",
    "\n",
    "*example*:\n",
    "```python\n",
    "sns.heatmap(df.corr())\n",
    "```\n",
    "\n",
    "Please take time to format your output, adding a title. Look through some of the additional arguments and options. (Axis labels aren't really necessary, as long as the title is informative)."
   ]
  },
  {
   "cell_type": "code",
   "execution_count": 99,
   "metadata": {},
   "outputs": [],
   "source": [
    "final_corr = final_df.corr()"
   ]
  },
  {
   "cell_type": "code",
   "execution_count": 100,
   "metadata": {},
   "outputs": [],
   "source": [
    "import seaborn as sns"
   ]
  },
  {
   "cell_type": "code",
   "execution_count": 101,
   "metadata": {},
   "outputs": [
    {
     "data": {
      "image/png": "[encoded data removed]",
      "text/plain": [
       "<Figure size 1152x1440 with 2 Axes>"
      ]
     },
     "metadata": {
      "needs_background": "light"
     },
     "output_type": "display_data"
    }
   ],
   "source": [
    "plt.figure(figsize = (16,20))\n",
    "sns.heatmap(final_corr, cmap='coolwarm', annot=True)\n",
    "plt.title('Correlation btwn SAT/ACT Scores and Participation, 2017-2018');"
   ]
  },
  {
   "cell_type": "markdown",
   "metadata": {},
   "source": [
    "#### Define a custom function to subplot histograms\n",
    "\n",
    "We have data for two tests for two years. We only have composite (and not subtest scores) for the 2018 ACT. We should write a function that will take the names of 2+ columns and subplot histograms. While you can use pandas plotting or Seaborn here, matplotlib gives you greater control over all aspects of your plots.\n",
    "\n",
    "[Helpful Link for Plotting Multiple Figures](https://matplotlib.org/users/pyplot_tutorial.html#working-with-multiple-figures-and-axes)\n",
    "\n",
    "Here's some starter code:"
   ]
  },
  {
   "cell_type": "code",
   "execution_count": 102,
   "metadata": {},
   "outputs": [],
   "source": [
    "def subplot_histograms(dataframe, list_of_columns, list_of_titles, list_of_xlabels):\n",
    "    colors = ['#8EA4D2', '#6279B8', '#49516F']\n",
    "    nrows = int(np.ceil(len(list_of_columns)/2)) # Makes sure you have enough rows\n",
    "    plt.tight_layout()\n",
    "    fig,ax = plt.subplots(nrows = nrows,ncols =2, figsize=(10,10))# You'll want to specify your figsize\n",
    "    ax = ax.ravel() # Ravel turns a matrix into a vector, which is easier to iterate\n",
    "    for i, column in enumerate(list_of_columns): # Gives us an index value to get into all our lists\n",
    "        ax[i].hist(dataframe[column], color = colors[i])\n",
    "        ax[i].set_title(list_of_titles[i])\n",
    "        ax[i].set_xlabel(list_of_xlabels[i])\n",
    "        \n"
   ]
  },
  {
   "cell_type": "code",
   "execution_count": 104,
   "metadata": {},
   "outputs": [
    {
     "data": {
      "text/plain": [
       "<Figure size 432x288 with 0 Axes>"
      ]
     },
     "metadata": {},
     "output_type": "display_data"
    },
    {
     "data": {
      "image/png": "[encoded data removed]",
      "text/plain": [
       "<Figure size 720x720 with 2 Axes>"
      ]
     },
     "metadata": {
      "needs_background": "light"
     },
     "output_type": "display_data"
    }
   ],
   "source": [
    "subplot_histograms(act_2018, ['act2018_participation', 'act2018_composite'], ['participation', 'composite'], ['participation percentage', 'composite score'])"
   ]
  },
  {
   "cell_type": "markdown",
   "metadata": {},
   "source": [
    "#### Plot and interpret histograms \n",
    "For each of the following:\n",
    "- Participation rates for SAT & ACT\n",
    "- Math scores for SAT & ACT\n",
    "- Reading/verbal scores for SAT & ACT"
   ]
  },
  {
   "cell_type": "code",
   "execution_count": 105,
   "metadata": {},
   "outputs": [
    {
     "data": {
      "text/plain": [
       "<Figure size 432x288 with 0 Axes>"
      ]
     },
     "metadata": {},
     "output_type": "display_data"
    },
    {
     "data": {
      "image/png": "[encoded data removed]",
      "text/plain": [
       "<Figure size 720x720 with 2 Axes>"
      ]
     },
     "metadata": {
      "needs_background": "light"
     },
     "output_type": "display_data"
    }
   ],
   "source": [
    "subplot_histograms(final_df, ['act2017_participation', 'act2018_participation'], ['ACT 2017 Participation', 'ACT 2018 Participation'], ['participation percentage','participation percentage']);"
   ]
  },
  {
   "cell_type": "code",
   "execution_count": 106,
   "metadata": {},
   "outputs": [
    {
     "data": {
      "text/plain": [
       "<Figure size 432x288 with 0 Axes>"
      ]
     },
     "metadata": {},
     "output_type": "display_data"
    },
    {
     "data": {
      "image/png": "[encoded data removed]",
      "text/plain": [
       "<Figure size 720x720 with 2 Axes>"
      ]
     },
     "metadata": {
      "needs_background": "light"
     },
     "output_type": "display_data"
    }
   ],
   "source": [
    "subplot_histograms(final_df, ['sat2017_participation', 'sat2018_participation'], ['SAT 2017 Participation', 'SAT 2018 Participation'], ['participation percentage','participation percentage'])"
   ]
  },
  {
   "cell_type": "code",
   "execution_count": 107,
   "metadata": {},
   "outputs": [
    {
     "data": {
      "text/plain": [
       "<Figure size 432x288 with 0 Axes>"
      ]
     },
     "metadata": {},
     "output_type": "display_data"
    },
    {
     "data": {
      "image/png": "[encoded data removed]",
      "text/plain": [
       "<Figure size 720x720 with 2 Axes>"
      ]
     },
     "metadata": {
      "needs_background": "light"
     },
     "output_type": "display_data"
    }
   ],
   "source": [
    "subplot_histograms(final_df, ['sat2017_math', 'act2017_math'], ['SAT 2017 Math Scores', 'ACT 2017 Math Scores'], ['average math score', 'average math score'])"
   ]
  },
  {
   "cell_type": "code",
   "execution_count": 108,
   "metadata": {},
   "outputs": [
    {
     "data": {
      "text/plain": [
       "<Figure size 432x288 with 0 Axes>"
      ]
     },
     "metadata": {},
     "output_type": "display_data"
    },
    {
     "data": {
      "image/png": "[encoded data removed]",
      "text/plain": [
       "<Figure size 720x720 with 4 Axes>"
      ]
     },
     "metadata": {
      "needs_background": "light"
     },
     "output_type": "display_data"
    }
   ],
   "source": [
    "subplot_histograms(final_df, ['sat2017_readingwriting', 'act2017_english', 'act2017_reading'], ['SAT 2017 Reading/Writing Scores', 'ACT 2017 English Scores', 'ACT 2017 Reading Scores'], ['average reading/writing score', 'average englsih score', 'average reading score'])"
   ]
  },
  {
   "cell_type": "markdown",
   "metadata": {},
   "source": [
    "#### Plot and interpret scatter plots\n",
    "\n",
    "For each of the following:\n",
    "- SAT vs. ACT math scores for 2017\n",
    "- SAT vs. ACT verbal/reading scores for 2017\n",
    "- SAT vs. ACT total/composite scores for 2017\n",
    "- Total scores for SAT 2017 vs. 2018\n",
    "- Composite scores for ACT 2017 vs. 2018\n",
    "\n",
    "Plot the two variables against each other using matplotlib or Seaborn\n",
    "\n",
    "Your plots should show:\n",
    "- Two clearly labeled axes\n",
    "- A proper title\n",
    "- Using colors and symbols that are clear and unmistakable\n",
    "\n",
    "**Feel free to write a custom function, and subplot if you'd like.** Functions save both time and space.\n"
   ]
  },
  {
   "cell_type": "code",
   "execution_count": 109,
   "metadata": {},
   "outputs": [
    {
     "data": {
      "image/png": "[encoded data removed]",
      "text/plain": [
       "<Figure size 432x288 with 1 Axes>"
      ]
     },
     "metadata": {
      "needs_background": "light"
     },
     "output_type": "display_data"
    }
   ],
   "source": [
    "final_df.plot.scatter('sat2017_math', 'act2017_math')\n",
    "plt.title ('Average Math Scores, SAT/ACT 2017')\n",
    "plt.xlabel('2017 SAT Math Scores')\n",
    "plt.ylabel('2017 ACT Math Scores');\n",
    "#try with list of 2017s as x, numbers as y?"
   ]
  },
  {
   "cell_type": "code",
   "execution_count": null,
   "metadata": {},
   "outputs": [],
   "source": [
    "final_df.plot.scatter('sat2017_readingwriting', 'act2017_reading')\n",
    "plt.title ('Average Reading Scores, SAT/ACT 2017')\n",
    "plt.xlabel('2017 SAT Reading/Writing Scores')\n",
    "plt.ylabel('2017 ACT Reading Scores');"
   ]
  },
  {
   "cell_type": "code",
   "execution_count": null,
   "metadata": {},
   "outputs": [],
   "source": [
    "final_df.plot.scatter('sat2017_total', 'act2017_composite')\n",
    "plt.title ('Average Total/Composite Scores, SAT/ACT 2017')\n",
    "plt.xlabel('2017 SAT Total Scores')\n",
    "plt.ylabel('2017 ACT Composite Scores');"
   ]
  },
  {
   "cell_type": "markdown",
   "metadata": {},
   "source": [
    "#### Plot and interpret boxplots\n",
    "\n",
    "For each numeric variable in the dataframe create a boxplot using Seaborn. Boxplots demonstrate central tendency and spread in variables. In a certain sense, these are somewhat redundant with histograms, but you may be better able to identify clear outliers or differences in IQR, etc.\n",
    "\n",
    "Multiple values can be plotted to a single boxplot as long as they are of the same relative scale (meaning they have similar min/max values).\n",
    "\n",
    "Each boxplot should:\n",
    "- Only include variables of a similar scale\n",
    "- Have clear labels for each variable\n",
    "- Have appropriate titles and labels"
   ]
  },
  {
   "cell_type": "code",
   "execution_count": null,
   "metadata": {},
   "outputs": [],
   "source": [
    "all_act = (pd.concat([act_2017, act_2018])).drop(['act2017_participation', 'act2018_participation'], axis=1)\n",
    "ax = sns.boxplot(data = all_act)\n",
    "ax.set_xticklabels(ax.get_xticklabels(),rotation=30)\n",
    "ax.set_title('ACT Scores 2017-2018');"
   ]
  },
  {
   "cell_type": "code",
   "execution_count": null,
   "metadata": {},
   "outputs": [],
   "source": [
    "allpart = pd.concat([combined_2017, combined_2018], axis=1)\n",
    "ax = sns.boxplot(data = (allpart['sat2017_participation'], allpart['sat2018_participation'], allpart['act2017_participation'], allpart['act2018_participation']))\n",
    "ax.set_xticklabels(['sat_2017', 'sat_2018', 'act_2017', 'act_2018'],rotation=30)\n",
    "ax.set_title('SAT/ACT Participation Percentages, 2017-2018')\n",
    ";"
   ]
  },
  {
   "cell_type": "code",
   "execution_count": null,
   "metadata": {},
   "outputs": [],
   "source": [
    "sat_num = (pd.concat([sat_2017, sat_2018])).drop(['sat2017_participation', 'sat2018_participation'], axis=1)\n",
    "ax = sns.boxplot(data = sat_num)\n",
    "ax.set_xticklabels(ax.get_xticklabels(),rotation=30)\n",
    "ax.set_title('SAT Scores 2017-2018');"
   ]
  },
  {
   "cell_type": "markdown",
   "metadata": {},
   "source": [
    "#### Feel free to do additional plots below\n",
    "*(do research and choose your own chart types & variables)*\n",
    "\n",
    "Are there any additional trends or relationships you haven't explored? Was there something interesting you saw that you'd like to dive further into? It's likely that there are a few more plots you might want to generate to support your narrative and recommendations that you are building toward. **As always, make sure you're interpreting your plots as you go**."
   ]
  },
  {
   "cell_type": "code",
   "execution_count": null,
   "metadata": {},
   "outputs": [],
   "source": []
  },
  {
   "cell_type": "markdown",
   "metadata": {},
   "source": [
    "#### (Optional): Using Tableau, create a choropleth map for each variable using a map of the US. \n",
    "\n",
    "Save this plot as an image file in an images directory, provide a relative path, and insert the image into notebook in markdown."
   ]
  },
  {
   "cell_type": "code",
   "execution_count": null,
   "metadata": {},
   "outputs": [],
   "source": []
  },
  {
   "cell_type": "markdown",
   "metadata": {},
   "source": [
    "## Descriptive and Inferential Statistics"
   ]
  },
  {
   "cell_type": "markdown",
   "metadata": {},
   "source": [
    "#### Summarizing Distributions\n",
    "\n",
    "Above, we used pandas `describe` to provide quick summary statistics of our numeric columns. We also demonstrated many visual relationships.\n",
    "\n",
    "As data scientists, having a complete understanding of data is imperative prior to modeling.\n",
    "\n",
    "While we will continue to build our analytic tools, we know that measures of *central tendency*, *spread*, and *shape/skewness* provide a quick summary of distributions.\n",
    "\n",
    "For each variable in your data, summarize the underlying distributions (in words & statistics)\n",
    " - Be thorough in your verbal description of these distributions.\n",
    " - Be sure to back up these summaries with statistics."
   ]
  },
  {
   "cell_type": "markdown",
   "metadata": {},
   "source": [
    "Answers:\n",
    "- States that had lower participation in the SAT/ACT had greater scores in those inverse exams.\n",
    "- Overall the national participation rate for the ACT was higher than that of the SAT.\n",
    "^ In 2017, average SAT participation was 40% while average ACT was 65%.\n",
    "- On average, students did better on eading sections than math sections.\n",
    "^for the SAT, the 2017 average reading score was 570 while math was 557.\n",
    "^for the ACT the 2017 average reading score was 22 while math was 21.\n",
    "- Participation for the SAT increased from 2017 to 2018 while participation for the ACT decreased from 2017 to 2018.\n",
    "- However, changes in total test scores of both exams were not significant\n",
    "- Only 4% of states had participation rates of 100% in SAT"
   ]
  },
  {
   "cell_type": "markdown",
   "metadata": {},
   "source": [
    "#### We generally assuming that data we sample from a population will be normally distributed. Do we observe this trend?"
   ]
  },
  {
   "cell_type": "markdown",
   "metadata": {},
   "source": [
    "Answer: No"
   ]
  },
  {
   "cell_type": "markdown",
   "metadata": {},
   "source": [
    "Does This Assumption Hold for:\n",
    "    - Math\n",
    "    - Reading\n",
    "    - Rates\n",
    "Explain your answers for each distribution and how you think this will affect estimates made from these data."
   ]
  },
  {
   "cell_type": "markdown",
   "metadata": {},
   "source": [
    "Answer:\n",
    "Math and Reading score distributions were right skewed\n",
    "SAT participation distribution wwas right skewed\n",
    "ACT participation distribution was left skewed\n",
    "\n",
    "Using skewed data influences inferences poorly, because it creates an overall inaccurate view."
   ]
  },
  {
   "cell_type": "markdown",
   "metadata": {},
   "source": [
    "#### Estimate Limits of Data\n",
    "\n",
    "Suppose we only seek to understand the relationship between SAT and ACT participation rates in 2017. \n",
    "\n",
    "##### Does it make sense to conduct statistical inference given these data specifically? \n",
    "\n",
    "Why or why not?\n",
    "\n",
    "*(think about granularity, aggregation, the relationships between populations size & rates...consider the actually populations these data describe in answering this question)*"
   ]
  },
  {
   "cell_type": "markdown",
   "metadata": {},
   "source": [
    "Answer:\n",
    "No. The participation in both these tests is influenced differently based on many factors.\n",
    "Geography, state requirements, cost of testing/preparation, to name a few.\n",
    "Additionally, the SAT and the ACT are two very different tests, meaning content is not uniform across and therefore student performance cannot be measured by the same metric for the two tests.\n",
    "It would be irresponsible to compare participation for the two side by side and accept any results without taking into account these inconsistencies."
   ]
  },
  {
   "cell_type": "markdown",
   "metadata": {},
   "source": [
    "##### Is it appropriate to compare *these* specific SAT and ACT math scores? \n",
    "\n",
    "Why or why not?"
   ]
  },
  {
   "cell_type": "markdown",
   "metadata": {},
   "source": [
    "Answer: No, for the same reasons as above. They are different tests, with different material, preparation methods, and scoring rubrics."
   ]
  },
  {
   "cell_type": "markdown",
   "metadata": {},
   "source": [
    "#### Statistical Evaluation of Distributions \n",
    "\n",
    "**If you feel it's appropriate**, using methods we discussed in class, run hypothesis tests to compare variables of interest in our dataset. "
   ]
  },
  {
   "cell_type": "code",
   "execution_count": null,
   "metadata": {},
   "outputs": [],
   "source": [
    "# Code:"
   ]
  },
  {
   "cell_type": "markdown",
   "metadata": {},
   "source": [
    "## Outside Research"
   ]
  },
  {
   "cell_type": "markdown",
   "metadata": {},
   "source": [
    "Based upon your observations, choose **three** states that demonstrate interesting trends in their SAT and/or ACT participation rates. Spend some time doing outside research on state policies that might influence these rates, and summarize your findings below. **Feel free to go back and create new plots that highlight these states of interest**. If you bring in any outside tables or charts, make sure you are explicit about having borrowed them. If you quote any text, make sure that it renders as being quoted. (Make sure that you cite your sources -- check with you local instructor for citation preferences)."
   ]
  },
  {
   "cell_type": "markdown",
   "metadata": {},
   "source": [
    "Arkansas, Kentucky, Mississippi.\n",
    "In all these states, participation in the ACT was extremely high compared to the SAT. While Arkansas does not require either test, both Kentucky and Mississippi do require the ACT. All of these states fund the cost for students who take the ACT.  However, in all these states, test scores for the ACT were either not particularly higher than those for the SAT, or considerably worse. \n",
    "These are also states whose poverty rates are below the national average, implying their access to preparation for either test is likely scarce, and cost of testing/prep plays a large part in which test is taken and how their performance ranks.\n",
    "(https://www.washingtonpost.com/news/wonk/wp/2014/03/05/these-four-charts-show-how-the-sat-favors-the-rich-educated-families/?utm_term=.410d9395c78d)"
   ]
  },
  {
   "cell_type": "markdown",
   "metadata": {},
   "source": [
    "## Conclusions and Recommendations"
   ]
  },
  {
   "cell_type": "markdown",
   "metadata": {},
   "source": [
    "Based on your exploration of the data, what are you key takeaways and recommendations? Choose one state with a lower participation rate and provide a suggestion for how the College Board might increase participation amongst graduating seniors in this state. Are there additional data you desire that would better inform your investigations?"
   ]
  },
  {
   "cell_type": "markdown",
   "metadata": {},
   "source": [
    "Focusing on Arkansas, my recommendation would be to provide state & College Board funded prep classes for the SAT, or to somehow include it in public high school's curriculuum. Funded testing centers or a fee waiver for students who meet certain criteria would also expand the interest and accessibility for all students/parents.\n",
    "I would have liked to have data on test scores for different counties within Arkansas, along with more data on the specific schools (public and private)students attended and the socioeconomic makeup of these counties and schools."
   ]
  },
  {
   "cell_type": "code",
   "execution_count": null,
   "metadata": {},
   "outputs": [],
   "source": []
  }
 ],
 "metadata": {
  "anaconda-cloud": {},
  "kernelspec": {
   "display_name": "Python 3",
   "language": "python",
   "name": "python3"
  },
  "language_info": {
   "codemirror_mode": {
    "name": "ipython",
    "version": 3
   },
   "file_extension": ".py",
   "mimetype": "text/x-python",
   "name": "python",
   "nbconvert_exporter": "python",
   "pygments_lexer": "ipython3",
   "version": "3.7.3"
  }
 },
 "nbformat": 4,
 "nbformat_minor": 2
}
